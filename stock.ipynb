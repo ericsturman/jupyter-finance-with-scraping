{
 "cells": [
  {
   "cell_type": "code",
   "execution_count": 1,
   "id": "closing-workstation",
   "metadata": {},
   "outputs": [],
   "source": [
    "from fetchYahooStockData import metadata_price_action, extended_stock_stats, basic_stats, current_sp500_symbols, parse_value, current_dow30_symbols, current_nasdaq100_symbols\n",
    "import numpy as np\n",
    "import pandas as pd\n",
    "import math"
   ]
  },
  {
   "cell_type": "code",
   "execution_count": 5,
   "id": "adequate-contractor",
   "metadata": {},
   "outputs": [],
   "source": [
    "symbol=\"TTWO\"\n",
    "timeInterval = \"1d\"\n",
    "timeRange = \"1y\""
   ]
  },
  {
   "cell_type": "code",
   "execution_count": 4,
   "id": "complimentary-persian",
   "metadata": {},
   "outputs": [
    {
     "data": {
      "text/plain": [
       "array(['MMM', 'ABT', 'ABBV', 'ABMD', 'ACN', 'ATVI', 'ADBE', 'AMD', 'AAP',\n",
       "       'AES', 'AFL', 'A', 'APD', 'AKAM', 'ALK', 'ALB', 'ARE', 'ALXN',\n",
       "       'ALGN', 'ALLE', 'LNT', 'ALL', 'GOOGL', 'GOOG', 'MO', 'AMZN',\n",
       "       'AMCR', 'AEE', 'AAL', 'AEP', 'AXP', 'AIG', 'AMT', 'AWK', 'AMP',\n",
       "       'ABC', 'AME', 'AMGN', 'APH', 'ADI', 'ANSS', 'ANTM', 'AON', 'AOS',\n",
       "       'APA', 'AAPL', 'AMAT', 'APTV', 'ADM', 'ANET', 'AJG', 'AIZ', 'T',\n",
       "       'ATO', 'ADSK', 'ADP', 'AZO', 'AVB', 'AVY', 'BKR', 'BLL', 'BAC',\n",
       "       'BK', 'BAX', 'BDX', 'BRK.B', 'BBY', 'BIO', 'BIIB', 'BLK', 'BA',\n",
       "       'BKNG', 'BWA', 'BXP', 'BSX', 'BMY', 'AVGO', 'BR', 'BF.B', 'CHRW',\n",
       "       'COG', 'CDNS', 'CPB', 'COF', 'CAH', 'KMX', 'CCL', 'CARR', 'CTLT',\n",
       "       'CAT', 'CBOE', 'CBRE', 'CDW', 'CE', 'CNC', 'CNP', 'CERN', 'CF',\n",
       "       'SCHW', 'CHTR', 'CVX', 'CMG', 'CB', 'CHD', 'CI', 'CINF', 'CTAS',\n",
       "       'CSCO', 'C', 'CFG', 'CTXS', 'CLX', 'CME', 'CMS', 'KO', 'CTSH',\n",
       "       'CL', 'CMCSA', 'CMA', 'CAG', 'COP', 'ED', 'STZ', 'COO', 'CPRT',\n",
       "       'GLW', 'CTVA', 'COST', 'CCI', 'CSX', 'CMI', 'CVS', 'DHI', 'DHR',\n",
       "       'DRI', 'DVA', 'DE', 'DAL', 'XRAY', 'DVN', 'DXCM', 'FANG', 'DLR',\n",
       "       'DFS', 'DISCA', 'DISCK', 'DISH', 'DG', 'DLTR', 'D', 'DPZ', 'DOV',\n",
       "       'DOW', 'DTE', 'DUK', 'DRE', 'DD', 'DXC', 'EMN', 'ETN', 'EBAY',\n",
       "       'ECL', 'EIX', 'EW', 'EA', 'EMR', 'ENPH', 'ETR', 'EOG', 'EFX',\n",
       "       'EQIX', 'EQR', 'ESS', 'EL', 'ETSY', 'EVRG', 'ES', 'RE', 'EXC',\n",
       "       'EXPE', 'EXPD', 'EXR', 'XOM', 'FFIV', 'FB', 'FAST', 'FRT', 'FDX',\n",
       "       'FIS', 'FITB', 'FE', 'FRC', 'FISV', 'FLT', 'FLIR', 'FLS', 'FMC',\n",
       "       'F', 'FTNT', 'FTV', 'FBHS', 'FOXA', 'FOX', 'BEN', 'FCX', 'GPS',\n",
       "       'GRMN', 'IT', 'GD', 'GE', 'GIS', 'GM', 'GPC', 'GILD', 'GL', 'GPN',\n",
       "       'GS', 'GWW', 'HAL', 'HBI', 'HIG', 'HAS', 'HCA', 'PEAK', 'HSIC',\n",
       "       'HSY', 'HES', 'HPE', 'HLT', 'HFC', 'HOLX', 'HD', 'HON', 'HRL',\n",
       "       'HST', 'HWM', 'HPQ', 'HUM', 'HBAN', 'HII', 'IEX', 'IDXX', 'INFO',\n",
       "       'ITW', 'ILMN', 'INCY', 'IR', 'INTC', 'ICE', 'IBM', 'IP', 'IPG',\n",
       "       'IFF', 'INTU', 'ISRG', 'IVZ', 'IPGP', 'IQV', 'IRM', 'JKHY', 'J',\n",
       "       'JBHT', 'SJM', 'JNJ', 'JCI', 'JPM', 'JNPR', 'KSU', 'K', 'KEY',\n",
       "       'KEYS', 'KMB', 'KIM', 'KMI', 'KLAC', 'KHC', 'KR', 'LB', 'LHX',\n",
       "       'LH', 'LRCX', 'LW', 'LVS', 'LEG', 'LDOS', 'LEN', 'LLY', 'LNC',\n",
       "       'LIN', 'LYV', 'LKQ', 'LMT', 'L', 'LOW', 'LUMN', 'LYB', 'MTB',\n",
       "       'MRO', 'MPC', 'MKTX', 'MAR', 'MMC', 'MLM', 'MAS', 'MA', 'MKC',\n",
       "       'MXIM', 'MCD', 'MCK', 'MDT', 'MRK', 'MET', 'MTD', 'MGM', 'MCHP',\n",
       "       'MU', 'MSFT', 'MAA', 'MHK', 'TAP', 'MDLZ', 'MPWR', 'MNST', 'MCO',\n",
       "       'MS', 'MOS', 'MSI', 'MSCI', 'NDAQ', 'NTAP', 'NFLX', 'NWL', 'NEM',\n",
       "       'NWSA', 'NWS', 'NEE', 'NLSN', 'NKE', 'NI', 'NSC', 'NTRS', 'NOC',\n",
       "       'NLOK', 'NCLH', 'NOV', 'NRG', 'NUE', 'NVDA', 'NVR', 'ORLY', 'OXY',\n",
       "       'ODFL', 'OMC', 'OKE', 'ORCL', 'OTIS', 'PCAR', 'PKG', 'PH', 'PAYX',\n",
       "       'PAYC', 'PYPL', 'PNR', 'PBCT', 'PEP', 'PKI', 'PRGO', 'PFE', 'PM',\n",
       "       'PSX', 'PNW', 'PXD', 'PNC', 'POOL', 'PPG', 'PPL', 'PFG', 'PG',\n",
       "       'PGR', 'PLD', 'PRU', 'PEG', 'PSA', 'PHM', 'PVH', 'QRVO', 'PWR',\n",
       "       'QCOM', 'DGX', 'RL', 'RJF', 'RTX', 'O', 'REG', 'REGN', 'RF', 'RSG',\n",
       "       'RMD', 'RHI', 'ROK', 'ROL', 'ROP', 'ROST', 'RCL', 'SPGI', 'CRM',\n",
       "       'SBAC', 'SLB', 'STX', 'SEE', 'SRE', 'NOW', 'SHW', 'SPG', 'SWKS',\n",
       "       'SLG', 'SNA', 'SO', 'LUV', 'SWK', 'SBUX', 'STT', 'STE', 'SYK',\n",
       "       'SIVB', 'SYF', 'SNPS', 'SYY', 'TMUS', 'TROW', 'TTWO', 'TPR', 'TGT',\n",
       "       'TEL', 'TDY', 'TFX', 'TER', 'TSLA', 'TXN', 'TXT', 'TMO', 'TJX',\n",
       "       'TSCO', 'TT', 'TDG', 'TRV', 'TRMB', 'TFC', 'TWTR', 'TYL', 'TSN',\n",
       "       'UDR', 'ULTA', 'USB', 'UAA', 'UA', 'UNP', 'UAL', 'UNH', 'UPS',\n",
       "       'URI', 'UHS', 'UNM', 'VLO', 'VAR', 'VTR', 'VRSN', 'VRSK', 'VZ',\n",
       "       'VRTX', 'VFC', 'VIAC', 'VTRS', 'V', 'VNT', 'VNO', 'VMC', 'WRB',\n",
       "       'WAB', 'WMT', 'WBA', 'DIS', 'WM', 'WAT', 'WEC', 'WFC', 'WELL',\n",
       "       'WST', 'WDC', 'WU', 'WRK', 'WY', 'WHR', 'WMB', 'WLTW', 'WYNN',\n",
       "       'XEL', 'XRX', 'XLNX', 'XYL', 'YUM', 'ZBRA', 'ZBH', 'ZION', 'ZTS'],\n",
       "      dtype='<U5')"
      ]
     },
     "execution_count": 4,
     "metadata": {},
     "output_type": "execute_result"
    }
   ],
   "source": [
    "sp500symbols = np.array(current_sp500_symbols())\n",
    "sp500symbols"
   ]
  },
  {
   "cell_type": "code",
   "execution_count": 5,
   "id": "fluid-phrase",
   "metadata": {},
   "outputs": [
    {
     "data": {
      "text/plain": [
       "array(['MMM', 'AXP', 'AMGN', 'AAPL', 'BA', 'CAT', 'CVX', 'CSCO', 'KO',\n",
       "       'DOW', 'GS', 'HD', 'HON', 'IBM', 'INTC', 'JNJ', 'JPM', 'MCD',\n",
       "       'MRK', 'MSFT', 'NKE', 'PG', 'CRM', 'TRV', 'UNH', 'VZ', 'V', 'WBA',\n",
       "       'WMT', 'DIS'], dtype='<U4')"
      ]
     },
     "execution_count": 5,
     "metadata": {},
     "output_type": "execute_result"
    }
   ],
   "source": [
    "dow30symbols = np.array(current_dow30_symbols())\n",
    "dow30symbols"
   ]
  },
  {
   "cell_type": "code",
   "execution_count": 6,
   "id": "historic-celebrity",
   "metadata": {},
   "outputs": [
    {
     "data": {
      "text/plain": [
       "array(['ATVI', 'ADBE', 'AMD', 'ALXN', 'ALGN', 'GOOGL', 'GOOG', 'AMZN',\n",
       "       'AEP', 'AMGN', 'ADI', 'ANSS', 'AAPL', 'AMAT', 'ASML', 'TEAM',\n",
       "       'ADSK', 'ADP', 'BIDU', 'BIIB', 'BKNG', 'AVGO', 'CDNS', 'CDW',\n",
       "       'CERN', 'CHTR', 'CHKP', 'CTAS', 'CSCO', 'CTSH', 'CMCSA', 'CPRT',\n",
       "       'COST', 'CSX', 'DXCM', 'DOCU', 'DLTR', 'EBAY', 'EA', 'EXC', 'FB',\n",
       "       'FAST', 'FISV', 'FOXA', 'FOX', 'GILD', 'IDXX', 'ILMN', 'INCY',\n",
       "       'INTC', 'INTU', 'ISRG', 'JD', 'KDP', 'KLAC', 'KHC', 'LRCX', 'LULU',\n",
       "       'MAR', 'MRVL', 'MTCH', 'MXIM', 'MELI', 'MCHP', 'MU', 'MSFT',\n",
       "       'MRNA', 'MDLZ', 'MNST', 'NTES', 'NFLX', 'NVDA', 'NXPI', 'ORLY',\n",
       "       'OKTA', 'PCAR', 'PAYX', 'PYPL', 'PTON', 'PEP', 'PDD', 'QCOM',\n",
       "       'REGN', 'ROST', 'SGEN', 'SIRI', 'SWKS', 'SPLK', 'SBUX', 'SNPS',\n",
       "       'TMUS', 'TSLA', 'TXN', 'TCOM', 'VRSN', 'VRSK', 'VRTX', 'WBA',\n",
       "       'WDAY', 'XEL', 'XLNX', 'ZM'], dtype='<U5')"
      ]
     },
     "execution_count": 6,
     "metadata": {},
     "output_type": "execute_result"
    }
   ],
   "source": [
    "nasdaq100symbols = np.array(current_nasdaq100_symbols())\n",
    "nasdaq100symbols"
   ]
  },
  {
   "cell_type": "code",
   "execution_count": 23,
   "id": "recent-visitor",
   "metadata": {},
   "outputs": [
    {
     "data": {
      "text/plain": [
       "array(['PFG', 'PNR', 'GLW', 'WDAY', 'PSX', 'AMD', 'IFF', 'PDD', 'BIDU',\n",
       "       'PSA', 'WHR', 'ASML', 'ARE', 'EOG', 'VRTX', 'VNO', 'TWTR', 'NWS',\n",
       "       'OKTA', 'KEYS', 'WRB', 'COO', 'GPC', 'CSCO', 'ROP', 'VNT', 'ROST',\n",
       "       'AMAT', 'DISH', 'HSY', 'LUV', 'FLIR', 'COST', 'SPLK', 'FIS', 'TYL',\n",
       "       'KIM', 'NTRS', 'SPGI', 'IRM', 'REGN', 'CMI', 'BIIB', 'BK', 'XRAY',\n",
       "       'REG', 'ANET', 'CB', 'PLD', 'PNW', 'FCX', 'IPGP', 'MDT', 'CHRW',\n",
       "       'LYB', 'NWSA', 'ITW', 'MTCH', 'PEAK', 'MAR', 'KEY', 'NTES', 'OTIS',\n",
       "       'CTVA', 'CMA', 'CTXS', 'BA', 'ZBH', 'SYK', 'NFLX', 'SIVB', 'OXY',\n",
       "       'CNC', 'STZ', 'MSI', 'SWK', 'ULTA', 'PEP', 'POOL', 'ICE', 'SCHW',\n",
       "       'JPM', 'PPL', 'AVY', 'GOOG', 'HES', 'GILD', 'LULU', 'EL', 'TFX',\n",
       "       'UAA', 'HBI', 'JBHT', 'LOW', 'FLS', 'GIS', 'PTON', 'EFX', 'JKHY',\n",
       "       'FMC', 'TCOM', 'CME', 'COF', 'CMG', 'AMP', 'PEG', 'HAL', 'VTR',\n",
       "       'PRGO', 'VFC', 'GRMN', 'MS', 'BAC', 'XEL', 'UNP', 'CARR', 'CHKP',\n",
       "       'STT', 'BLL', 'WMT', 'TXT', 'WM', 'AVGO', 'ORLY', 'TTWO', 'BAX',\n",
       "       'L', 'AAPL', 'J', 'MCHP', 'PFE', 'INTU', 'ZM', 'IQV', 'WAB', 'ABT',\n",
       "       'FBHS', 'AJG', 'WFC', 'YUM', 'XLNX', 'PBCT', 'DGX', 'HWM', 'GD',\n",
       "       'DVN', 'TSCO', 'NLOK', 'URI', 'PM', 'JD', 'K', 'TDY', 'VZ', 'AEP',\n",
       "       'PKI', 'BSX', 'XYL', 'AMT', 'DFS', 'CHD', 'AON', 'KSU', 'SO',\n",
       "       'INFO', 'EMN', 'MAA', 'IT', 'HFC', 'AAL', 'IP', 'RCL', 'VAR',\n",
       "       'GOOGL', 'DLTR', 'FFIV', 'SLB', 'AWK', 'AIG', 'CE', 'MA', 'MKC',\n",
       "       'LB', 'PVH', 'VRSK', 'DAL', 'CERN', 'ZTS', 'LMT', 'TT', 'ED',\n",
       "       'EVRG', 'ANSS', 'NXPI', 'KMX', 'ALL', 'ATVI', 'FRT', 'WBA', 'HLT',\n",
       "       'MMM', 'WU', 'WST', 'WAT', 'BKR', 'ABC', 'NCLH', 'EXC', 'CL',\n",
       "       'DRE', 'MXIM', 'IEX', 'UDR', 'BKNG', 'CTLT', 'LYV', 'DXC', 'WMB',\n",
       "       'CVS', 'PGR', 'ORCL', 'NEE', 'BBY', 'LUMN', 'CAH', 'MRNA', 'MLM',\n",
       "       'FITB', 'PNC', 'PAYX', 'FTNT', 'TEAM', 'CNP', 'CDW', 'KMB', 'RMD',\n",
       "       'TGT', 'APH', 'IPG', 'BR', 'MDLZ', 'AVB', 'MOS', 'CINF', 'MET',\n",
       "       'KMI', 'TFC', 'PYPL', 'USB', 'MCK', 'DVA', 'XRX', 'RHI', 'HII',\n",
       "       'CRM', 'SYY', 'HIG', 'LNT', 'JCI', 'SJM', 'LVS', 'EQR', 'ETR',\n",
       "       'SNA', 'PKG', 'CPB', 'ZION', 'PRU', 'COP', 'TDG', 'DXCM', 'LH',\n",
       "       'MNST', 'ABBV', 'JNPR', 'MSCI', 'TRV', 'XOM', 'ALXN', 'RL', 'WDC',\n",
       "       'C', 'RJF', 'LRCX', 'TPR', 'COG', 'HUM', 'PG', 'ISRG', 'D', 'PCAR',\n",
       "       'CMCSA', 'GWW', 'FOX', 'ESS', 'NI', 'AIZ', 'SHW', 'AKAM', 'O',\n",
       "       'NVDA', 'ACN', 'APA', 'MRO', 'CPRT', 'PXD', 'CDNS', 'ALK', 'UHS',\n",
       "       'CCI', 'ADP', 'RF', 'LLY', 'SGEN', 'KDP', 'ADSK', 'AME', 'CBRE',\n",
       "       'HPE', 'DRI', 'CSX', 'ADI', 'PAYC', 'CFG', 'WY', 'AZO', 'CVX',\n",
       "       'EXPE', 'NOW', 'AAP', 'NOV', 'FOXA', 'BMY', 'JNJ', 'LIN', 'MHK',\n",
       "       'DPZ', 'CCL', 'DHR', 'GPS', 'HST', 'MCD', 'BXP', 'AMCR', 'FAST',\n",
       "       'HD', 'ECL', 'NOC', 'PWR', 'CBOE', 'WEC', 'SWKS', 'MU', 'EMR',\n",
       "       'MKTX', 'STE', 'DOW', 'WYNN', 'FB', 'FLT', 'AXP', 'EQIX', 'DUK',\n",
       "       'NSC', 'ETSY', 'GL', 'WRK', 'DLR', 'ADM', 'CHTR', 'HAS', 'INCY',\n",
       "       'DOV', 'SBAC', 'SPG', 'FISV', 'MRVL', 'LEG', 'HON', 'LKQ', 'EA',\n",
       "       'BDX', 'STX', 'KLAC', 'LNC', 'MCO', 'CMS', 'EW', 'ZBRA', 'QRVO',\n",
       "       'MAS', 'TMUS', 'EXR', 'PH', 'SIRI', 'KO', 'MRK', 'BWA', 'EIX',\n",
       "       'WELL', 'EXPD', 'ILMN', 'SBUX', 'SEE', 'KHC', 'AES', 'CTSH', 'GM',\n",
       "       'ENPH', 'MPC', 'KR', 'HOLX', 'GS', 'CLX', 'MGM', 'UPS', 'ES',\n",
       "       'TMO', 'PHM', 'MTD', 'DTE', 'LEN', 'IR', 'ABMD', 'IBM', 'APD',\n",
       "       'VIAC', 'VLO', 'ALGN', 'V', 'TXN', 'INTC', 'DISCK', 'FDX', 'ROK',\n",
       "       'AOS', 'TEL', 'RE', 'CAT', 'ANTM', 'MTB', 'NVR', 'FANG', 'IVZ',\n",
       "       'MSFT', 'TRMB', 'BLK', 'ALB', 'AMZN', 'TAP', 'IDXX', 'CF', 'MO',\n",
       "       'DD', 'SLG', 'HSIC', 'NUE', 'ETN', 'UAL', 'CI', 'TJX', 'DHI',\n",
       "       'SYF', 'VRSN', 'DOCU', 'MMC', 'NTAP', 'ATO', 'ALLE', 'AMGN', 'FRC',\n",
       "       'AEE', 'LW', 'SRE', 'BIO', 'LDOS', 'DG', 'OKE', 'GE', 'MPWR',\n",
       "       'TSLA', 'NKE', 'UNM', 'RSG', 'NWL', 'T', 'NRG', 'DISCA', 'BF.B',\n",
       "       'VTRS', 'PPG', 'TROW', 'HCA', 'VMC', 'UNH', 'CAG', 'GPN', 'TSN',\n",
       "       'DIS', 'LHX', 'AFL', 'SNPS', 'A', 'HRL', 'CTAS', 'BEN', 'HBAN',\n",
       "       'DE', 'FTV', 'RTX', 'UA', 'WLTW', 'ODFL', 'FE', 'QCOM', 'BRK.B',\n",
       "       'ROL', 'APTV', 'HPQ', 'NEM', 'ADBE', 'OMC', 'NDAQ', 'TER', 'NLSN',\n",
       "       'EBAY', 'F', 'MELI'], dtype='<U5')"
      ]
     },
     "execution_count": 23,
     "metadata": {},
     "output_type": "execute_result"
    }
   ],
   "source": [
    "allSymbols = np.concatenate((nasdaq100symbols,sp500symbols), axis=None)\n",
    "setAllSymbols = np.array(list(set(allSymbols)))\n",
    "setAllSymbols\n"
   ]
  },
  {
   "cell_type": "code",
   "execution_count": null,
   "id": "extra-newsletter",
   "metadata": {},
   "outputs": [],
   "source": [
    "my_columns = [\"Ticker\", \"Stock Price\", \"Market Cap\", \"52 Week Change\", \"Number of Shares to Buy\"]\n",
    "dataframe = pd.DataFrame(columns=my_columns)\n",
    "for sym in sp500symbols[0:4]:\n",
    "    if(sym.find(\".\") > -1):\n",
    "        sym = sym.replace(\".\", \"-\")\n",
    "    basic = basic_stats(sym)\n",
    "    complexStats = extended_stock_stats(sym)\n",
    "    marketCap = parse_value(basic[\"Market Cap\"])\n",
    "    previousClose = parse_value(basic[\"Previous Close\"])\n",
    "    fiftyTwoWeekChange = previousClose / (1+parse_value(complexStats[\"52-Week Change 3\"]))\n",
    "    dataframe = dataframe.append(pd.Series([sym,previousClose,round(marketCap),fiftyTwoWeekChange,\"N/A\"], index=my_columns), ignore_index=True)\n",
    "    print(sym, round(marketCap), previousClose)\n",
    "dataframe.to_csv(\"lastDataframe_bak.csv\")\n",
    "dataframe"
   ]
  },
  {
   "cell_type": "code",
   "execution_count": null,
   "id": "chronic-knock",
   "metadata": {},
   "outputs": [],
   "source": [
    "dataframe.to_csv(\"lastDataframe.csv\")"
   ]
  },
  {
   "cell_type": "code",
   "execution_count": null,
   "id": "catholic-prerequisite",
   "metadata": {},
   "outputs": [],
   "source": [
    "portfolio_size = input(\"How large is your portfolio?\")"
   ]
  },
  {
   "cell_type": "code",
   "execution_count": null,
   "id": "vulnerable-worry",
   "metadata": {},
   "outputs": [],
   "source": [
    "portfolio_size = float(portfolio_size)\n",
    "portfolio_size"
   ]
  },
  {
   "cell_type": "code",
   "execution_count": null,
   "id": "precise-blood",
   "metadata": {},
   "outputs": [],
   "source": [
    "position_size = portfolio_size / len(dataframe.index)\n",
    "print(position_size)\n",
    "for i in range(0,len(dataframe.index)):\n",
    "    dataframe.loc[i,\"Number of Shares to Buy\"] = math.floor(position_size/dataframe.loc[i,\"Stock Price\"])\n",
    "\n",
    "dataframe.to_csv(\"lastDataframeWithSharesToBuy.csv\")\n",
    "dataframe"
   ]
  },
  {
   "cell_type": "raw",
   "id": "funky-fiber",
   "metadata": {},
   "source": []
  },
  {
   "cell_type": "code",
   "execution_count": 6,
   "id": "modular-prayer",
   "metadata": {},
   "outputs": [
    {
     "data": {
      "text/plain": [
       "{'currency': 'USD',\n",
       " 'symbol': 'TTWO',\n",
       " 'exchangeName': 'NMS',\n",
       " 'instrumentType': 'EQUITY',\n",
       " 'firstTradeDate': 861111000,\n",
       " 'regularMarketTime': 1614373202,\n",
       " 'gmtoffset': -18000,\n",
       " 'timezone': 'EST',\n",
       " 'exchangeTimezoneName': 'America/New_York',\n",
       " 'regularMarketPrice': 184.46,\n",
       " 'chartPreviousClose': 109.47,\n",
       " 'priceHint': 2,\n",
       " 'currentTradingPeriod': {'pre': {'timezone': 'EST',\n",
       "   'start': 1614330000,\n",
       "   'end': 1614349800,\n",
       "   'gmtoffset': -18000},\n",
       "  'regular': {'timezone': 'EST',\n",
       "   'start': 1614349800,\n",
       "   'end': 1614373200,\n",
       "   'gmtoffset': -18000},\n",
       "  'post': {'timezone': 'EST',\n",
       "   'start': 1614373200,\n",
       "   'end': 1614387600,\n",
       "   'gmtoffset': -18000}},\n",
       " 'dataGranularity': '1d',\n",
       " 'range': '1y',\n",
       " 'validRanges': ['1d',\n",
       "  '5d',\n",
       "  '1mo',\n",
       "  '3mo',\n",
       "  '6mo',\n",
       "  '1y',\n",
       "  '2y',\n",
       "  '5y',\n",
       "  '10y',\n",
       "  'ytd',\n",
       "  'max']}"
      ]
     },
     "execution_count": 6,
     "metadata": {},
     "output_type": "execute_result"
    }
   ],
   "source": [
    "metadataAndPrice = metadata_price_action(symbol, timeInterval, timeRange)\n",
    "metadata = metadataAndPrice[\"metadata\"]\n",
    "metadata"
   ]
  },
  {
   "cell_type": "code",
   "execution_count": 7,
   "id": "honest-circular",
   "metadata": {},
   "outputs": [
    {
     "data": {
      "text/html": [
       "<div>\n",
       "<style scoped>\n",
       "    .dataframe tbody tr th:only-of-type {\n",
       "        vertical-align: middle;\n",
       "    }\n",
       "\n",
       "    .dataframe tbody tr th {\n",
       "        vertical-align: top;\n",
       "    }\n",
       "\n",
       "    .dataframe thead th {\n",
       "        text-align: right;\n",
       "    }\n",
       "</style>\n",
       "<table border=\"1\" class=\"dataframe\">\n",
       "  <thead>\n",
       "    <tr style=\"text-align: right;\">\n",
       "      <th></th>\n",
       "      <th>timestamp</th>\n",
       "      <th>high</th>\n",
       "      <th>open</th>\n",
       "      <th>close</th>\n",
       "      <th>low</th>\n",
       "      <th>volume</th>\n",
       "    </tr>\n",
       "  </thead>\n",
       "  <tbody>\n",
       "    <tr>\n",
       "      <th>0</th>\n",
       "      <td>1582813800</td>\n",
       "      <td>111.959999</td>\n",
       "      <td>107.559998</td>\n",
       "      <td>107.839996</td>\n",
       "      <td>106.220001</td>\n",
       "      <td>2502800</td>\n",
       "    </tr>\n",
       "    <tr>\n",
       "      <th>1</th>\n",
       "      <td>1582900200</td>\n",
       "      <td>109.279999</td>\n",
       "      <td>106.559998</td>\n",
       "      <td>107.480003</td>\n",
       "      <td>105.269997</td>\n",
       "      <td>3385300</td>\n",
       "    </tr>\n",
       "    <tr>\n",
       "      <th>2</th>\n",
       "      <td>1583159400</td>\n",
       "      <td>112.129997</td>\n",
       "      <td>108.580002</td>\n",
       "      <td>112.059998</td>\n",
       "      <td>107.919998</td>\n",
       "      <td>2321900</td>\n",
       "    </tr>\n",
       "    <tr>\n",
       "      <th>3</th>\n",
       "      <td>1583245800</td>\n",
       "      <td>115.040001</td>\n",
       "      <td>111.750000</td>\n",
       "      <td>111.220001</td>\n",
       "      <td>109.809998</td>\n",
       "      <td>2073500</td>\n",
       "    </tr>\n",
       "    <tr>\n",
       "      <th>4</th>\n",
       "      <td>1583332200</td>\n",
       "      <td>119.790001</td>\n",
       "      <td>113.440002</td>\n",
       "      <td>119.419998</td>\n",
       "      <td>113.440002</td>\n",
       "      <td>2573300</td>\n",
       "    </tr>\n",
       "    <tr>\n",
       "      <th>...</th>\n",
       "      <td>...</td>\n",
       "      <td>...</td>\n",
       "      <td>...</td>\n",
       "      <td>...</td>\n",
       "      <td>...</td>\n",
       "      <td>...</td>\n",
       "    </tr>\n",
       "    <tr>\n",
       "      <th>248</th>\n",
       "      <td>1614004200</td>\n",
       "      <td>195.399994</td>\n",
       "      <td>191.619995</td>\n",
       "      <td>189.850006</td>\n",
       "      <td>189.520004</td>\n",
       "      <td>1704700</td>\n",
       "    </tr>\n",
       "    <tr>\n",
       "      <th>249</th>\n",
       "      <td>1614090600</td>\n",
       "      <td>187.139999</td>\n",
       "      <td>184.050003</td>\n",
       "      <td>185.949997</td>\n",
       "      <td>181.110001</td>\n",
       "      <td>2062400</td>\n",
       "    </tr>\n",
       "    <tr>\n",
       "      <th>250</th>\n",
       "      <td>1614177000</td>\n",
       "      <td>187.429993</td>\n",
       "      <td>184.800003</td>\n",
       "      <td>186.990005</td>\n",
       "      <td>182.380005</td>\n",
       "      <td>1218900</td>\n",
       "    </tr>\n",
       "    <tr>\n",
       "      <th>251</th>\n",
       "      <td>1614263400</td>\n",
       "      <td>188.500000</td>\n",
       "      <td>186.389999</td>\n",
       "      <td>184.679993</td>\n",
       "      <td>181.929993</td>\n",
       "      <td>1217400</td>\n",
       "    </tr>\n",
       "    <tr>\n",
       "      <th>252</th>\n",
       "      <td>1614349800</td>\n",
       "      <td>186.990005</td>\n",
       "      <td>185.380005</td>\n",
       "      <td>184.460007</td>\n",
       "      <td>182.380005</td>\n",
       "      <td>1476400</td>\n",
       "    </tr>\n",
       "  </tbody>\n",
       "</table>\n",
       "<p>253 rows × 6 columns</p>\n",
       "</div>"
      ],
      "text/plain": [
       "      timestamp        high        open       close         low   volume\n",
       "0    1582813800  111.959999  107.559998  107.839996  106.220001  2502800\n",
       "1    1582900200  109.279999  106.559998  107.480003  105.269997  3385300\n",
       "2    1583159400  112.129997  108.580002  112.059998  107.919998  2321900\n",
       "3    1583245800  115.040001  111.750000  111.220001  109.809998  2073500\n",
       "4    1583332200  119.790001  113.440002  119.419998  113.440002  2573300\n",
       "..          ...         ...         ...         ...         ...      ...\n",
       "248  1614004200  195.399994  191.619995  189.850006  189.520004  1704700\n",
       "249  1614090600  187.139999  184.050003  185.949997  181.110001  2062400\n",
       "250  1614177000  187.429993  184.800003  186.990005  182.380005  1218900\n",
       "251  1614263400  188.500000  186.389999  184.679993  181.929993  1217400\n",
       "252  1614349800  186.990005  185.380005  184.460007  182.380005  1476400\n",
       "\n",
       "[253 rows x 6 columns]"
      ]
     },
     "execution_count": 7,
     "metadata": {},
     "output_type": "execute_result"
    }
   ],
   "source": [
    "price = metadataAndPrice[\"price\"]\n",
    "price"
   ]
  },
  {
   "cell_type": "code",
   "execution_count": null,
   "id": "corporate-pharmaceutical",
   "metadata": {},
   "outputs": [],
   "source": [
    "basicStats = basic_stats(symbol)\n",
    "basicStats"
   ]
  },
  {
   "cell_type": "code",
   "execution_count": null,
   "id": "lyric-exploration",
   "metadata": {},
   "outputs": [],
   "source": [
    "extStats = extended_stock_stats(symbol)\n",
    "extStats"
   ]
  },
  {
   "cell_type": "code",
   "execution_count": 9,
   "id": "forbidden-agent",
   "metadata": {},
   "outputs": [],
   "source": [
    "price.to_csv(\"ttwo.csv\")"
   ]
  },
  {
   "cell_type": "code",
   "execution_count": null,
   "id": "latest-creativity",
   "metadata": {},
   "outputs": [],
   "source": []
  }
 ],
 "metadata": {
  "kernelspec": {
   "display_name": "Python 3",
   "language": "python",
   "name": "python3"
  },
  "language_info": {
   "codemirror_mode": {
    "name": "ipython",
    "version": 3
   },
   "file_extension": ".py",
   "mimetype": "text/x-python",
   "name": "python",
   "nbconvert_exporter": "python",
   "pygments_lexer": "ipython3",
   "version": "3.8.5"
  }
 },
 "nbformat": 4,
 "nbformat_minor": 5
}
