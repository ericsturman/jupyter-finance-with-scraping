{
 "cells": [
  {
   "cell_type": "code",
   "execution_count": 1,
   "id": "interested-edition",
   "metadata": {},
   "outputs": [],
   "source": [
    "from fetchYahooStockData import metadata_price_action, extended_stock_stats, basic_stats, current_sp500_symbols, parse_value, current_dow30_symbols, current_nasdaq100_symbols, financials_balance_sheet\n",
    "import numpy as np\n",
    "import pandas as pd\n",
    "import math"
   ]
  },
  {
   "cell_type": "code",
   "execution_count": 2,
   "id": "banned-arena",
   "metadata": {},
   "outputs": [],
   "source": [
    "symbol=\"AMD\"\n",
    "timeInterval = \"1d\"\n",
    "timeRange = \"1y\""
   ]
  },
  {
   "cell_type": "code",
   "execution_count": 3,
   "id": "organic-humanitarian",
   "metadata": {},
   "outputs": [
    {
     "data": {
      "text/plain": [
       "array(['MMM', 'ABT', 'ABBV', 'ABMD', 'ACN', 'ATVI', 'ADBE', 'AMD', 'AAP',\n",
       "       'AES', 'AFL', 'A', 'APD', 'AKAM', 'ALK', 'ALB', 'ARE', 'ALGN',\n",
       "       'ALLE', 'LNT', 'ALL', 'GOOGL', 'GOOG', 'MO', 'AMZN', 'AMCR', 'AEE',\n",
       "       'AAL', 'AEP', 'AXP', 'AIG', 'AMT', 'AWK', 'AMP', 'ABC', 'AME',\n",
       "       'AMGN', 'APH', 'ADI', 'ANSS', 'ANTM', 'AON', 'AOS', 'APA', 'AAPL',\n",
       "       'AMAT', 'APTV', 'ADM', 'ANET', 'AJG', 'AIZ', 'T', 'ATO', 'ADSK',\n",
       "       'ADP', 'AZO', 'AVB', 'AVY', 'BKR', 'BLL', 'BAC', 'BK', 'BAX',\n",
       "       'BDX', 'BRK.B', 'BBY', 'BIO', 'BIIB', 'BLK', 'BA', 'BKNG', 'BWA',\n",
       "       'BXP', 'BSX', 'BMY', 'AVGO', 'BR', 'BF.B', 'CHRW', 'COG', 'CDNS',\n",
       "       'CZR', 'CPB', 'COF', 'CAH', 'KMX', 'CCL', 'CARR', 'CTLT', 'CAT',\n",
       "       'CBOE', 'CBRE', 'CDW', 'CE', 'CNC', 'CNP', 'CERN', 'CF', 'CRL',\n",
       "       'SCHW', 'CHTR', 'CVX', 'CMG', 'CB', 'CHD', 'CI', 'CINF', 'CTAS',\n",
       "       'CSCO', 'C', 'CFG', 'CTXS', 'CLX', 'CME', 'CMS', 'KO', 'CTSH',\n",
       "       'CL', 'CMCSA', 'CMA', 'CAG', 'COP', 'ED', 'STZ', 'COO', 'CPRT',\n",
       "       'GLW', 'CTVA', 'COST', 'CCI', 'CSX', 'CMI', 'CVS', 'DHI', 'DHR',\n",
       "       'DRI', 'DVA', 'DE', 'DAL', 'XRAY', 'DVN', 'DXCM', 'FANG', 'DLR',\n",
       "       'DFS', 'DISCA', 'DISCK', 'DISH', 'DG', 'DLTR', 'D', 'DPZ', 'DOV',\n",
       "       'DOW', 'DTE', 'DUK', 'DRE', 'DD', 'DXC', 'EMN', 'ETN', 'EBAY',\n",
       "       'ECL', 'EIX', 'EW', 'EA', 'EMR', 'ENPH', 'ETR', 'EOG', 'EFX',\n",
       "       'EQIX', 'EQR', 'ESS', 'EL', 'ETSY', 'EVRG', 'ES', 'RE', 'EXC',\n",
       "       'EXPE', 'EXPD', 'EXR', 'XOM', 'FFIV', 'FB', 'FAST', 'FRT', 'FDX',\n",
       "       'FIS', 'FITB', 'FE', 'FRC', 'FISV', 'FLT', 'FMC', 'F', 'FTNT',\n",
       "       'FTV', 'FBHS', 'FOXA', 'FOX', 'BEN', 'FCX', 'GPS', 'GRMN', 'IT',\n",
       "       'GNRC', 'GD', 'GE', 'GIS', 'GM', 'GPC', 'GILD', 'GL', 'GPN', 'GS',\n",
       "       'GWW', 'HAL', 'HBI', 'HIG', 'HAS', 'HCA', 'PEAK', 'HSIC', 'HSY',\n",
       "       'HES', 'HPE', 'HLT', 'HOLX', 'HD', 'HON', 'HRL', 'HST', 'HWM',\n",
       "       'HPQ', 'HUM', 'HBAN', 'HII', 'IEX', 'IDXX', 'INFO', 'ITW', 'ILMN',\n",
       "       'INCY', 'IR', 'INTC', 'ICE', 'IBM', 'IP', 'IPG', 'IFF', 'INTU',\n",
       "       'ISRG', 'IVZ', 'IPGP', 'IQV', 'IRM', 'JKHY', 'J', 'JBHT', 'SJM',\n",
       "       'JNJ', 'JCI', 'JPM', 'JNPR', 'KSU', 'K', 'KEY', 'KEYS', 'KMB',\n",
       "       'KIM', 'KMI', 'KLAC', 'KHC', 'KR', 'LB', 'LHX', 'LH', 'LRCX', 'LW',\n",
       "       'LVS', 'LEG', 'LDOS', 'LEN', 'LLY', 'LNC', 'LIN', 'LYV', 'LKQ',\n",
       "       'LMT', 'L', 'LOW', 'LUMN', 'LYB', 'MTB', 'MRO', 'MPC', 'MKTX',\n",
       "       'MAR', 'MMC', 'MLM', 'MAS', 'MA', 'MKC', 'MXIM', 'MCD', 'MCK',\n",
       "       'MDT', 'MRK', 'MET', 'MTD', 'MGM', 'MCHP', 'MU', 'MSFT', 'MAA',\n",
       "       'MRNA', 'MHK', 'TAP', 'MDLZ', 'MPWR', 'MNST', 'MCO', 'MS', 'MOS',\n",
       "       'MSI', 'MSCI', 'NDAQ', 'NTAP', 'NFLX', 'NWL', 'NEM', 'NWSA', 'NWS',\n",
       "       'NEE', 'NLSN', 'NKE', 'NI', 'NSC', 'NTRS', 'NOC', 'NLOK', 'NCLH',\n",
       "       'NOV', 'NRG', 'NUE', 'NVDA', 'NVR', 'NXPI', 'ORLY', 'OXY', 'ODFL',\n",
       "       'OMC', 'OKE', 'ORCL', 'OGN', 'OTIS', 'PCAR', 'PKG', 'PH', 'PAYX',\n",
       "       'PAYC', 'PYPL', 'PENN', 'PNR', 'PBCT', 'PEP', 'PKI', 'PRGO', 'PFE',\n",
       "       'PM', 'PSX', 'PNW', 'PXD', 'PNC', 'POOL', 'PPG', 'PPL', 'PFG',\n",
       "       'PG', 'PGR', 'PLD', 'PRU', 'PTC', 'PEG', 'PSA', 'PHM', 'PVH',\n",
       "       'QRVO', 'PWR', 'QCOM', 'DGX', 'RL', 'RJF', 'RTX', 'O', 'REG',\n",
       "       'REGN', 'RF', 'RSG', 'RMD', 'RHI', 'ROK', 'ROL', 'ROP', 'ROST',\n",
       "       'RCL', 'SPGI', 'CRM', 'SBAC', 'SLB', 'STX', 'SEE', 'SRE', 'NOW',\n",
       "       'SHW', 'SPG', 'SWKS', 'SNA', 'SO', 'LUV', 'SWK', 'SBUX', 'STT',\n",
       "       'STE', 'SYK', 'SIVB', 'SYF', 'SNPS', 'SYY', 'TMUS', 'TROW', 'TTWO',\n",
       "       'TPR', 'TGT', 'TEL', 'TDY', 'TFX', 'TER', 'TSLA', 'TXN', 'TXT',\n",
       "       'TMO', 'TJX', 'TSCO', 'TT', 'TDG', 'TRV', 'TRMB', 'TFC', 'TWTR',\n",
       "       'TYL', 'TSN', 'UDR', 'ULTA', 'USB', 'UAA', 'UA', 'UNP', 'UAL',\n",
       "       'UNH', 'UPS', 'URI', 'UHS', 'UNM', 'VLO', 'VTR', 'VRSN', 'VRSK',\n",
       "       'VZ', 'VRTX', 'VFC', 'VIAC', 'VTRS', 'V', 'VNO', 'VMC', 'WRB',\n",
       "       'WAB', 'WMT', 'WBA', 'DIS', 'WM', 'WAT', 'WEC', 'WFC', 'WELL',\n",
       "       'WST', 'WDC', 'WU', 'WRK', 'WY', 'WHR', 'WMB', 'WLTW', 'WYNN',\n",
       "       'XEL', 'XLNX', 'XYL', 'YUM', 'ZBRA', 'ZBH', 'ZION', 'ZTS'],\n",
       "      dtype='<U5')"
      ]
     },
     "execution_count": 3,
     "metadata": {},
     "output_type": "execute_result"
    }
   ],
   "source": [
    "sp500symbols = np.array(current_sp500_symbols())\n",
    "sp500symbols"
   ]
  },
  {
   "cell_type": "code",
   "execution_count": 4,
   "id": "fitted-indianapolis",
   "metadata": {},
   "outputs": [
    {
     "data": {
      "text/plain": [
       "array(['MMM', 'AXP', 'AMGN', 'AAPL', 'BA', 'CAT', 'CVX', 'CSCO', 'KO',\n",
       "       'DOW', 'GS', 'HD', 'HON', 'IBM', 'INTC', 'JNJ', 'JPM', 'MCD',\n",
       "       'MRK', 'MSFT', 'NKE', 'PG', 'CRM', 'TRV', 'UNH', 'VZ', 'V', 'WBA',\n",
       "       'WMT', 'DIS'], dtype='<U4')"
      ]
     },
     "execution_count": 4,
     "metadata": {},
     "output_type": "execute_result"
    }
   ],
   "source": [
    "dow30symbols = np.array(current_dow30_symbols())\n",
    "dow30symbols"
   ]
  },
  {
   "cell_type": "code",
   "execution_count": 5,
   "id": "economic-provider",
   "metadata": {},
   "outputs": [
    {
     "data": {
      "text/plain": [
       "array(['ATVI', 'ADBE', 'AMD', 'ALXN', 'ALGN', 'GOOGL', 'GOOG', 'AMZN',\n",
       "       'AEP', 'AMGN', 'ADI', 'ANSS', 'AAPL', 'AMAT', 'ASML', 'TEAM',\n",
       "       'ADSK', 'ADP', 'BIDU', 'BIIB', 'BKNG', 'AVGO', 'CDNS', 'CDW',\n",
       "       'CERN', 'CHTR', 'CHKP', 'CTAS', 'CSCO', 'CTSH', 'CMCSA', 'CPRT',\n",
       "       'COST', 'CSX', 'DXCM', 'DOCU', 'DLTR', 'EBAY', 'EA', 'EXC', 'FB',\n",
       "       'FAST', 'FISV', 'FOXA', 'FOX', 'GILD', 'IDXX', 'ILMN', 'INCY',\n",
       "       'INTC', 'INTU', 'ISRG', 'JD', 'KDP', 'KLAC', 'KHC', 'LRCX', 'LULU',\n",
       "       'MAR', 'MRVL', 'MTCH', 'MXIM', 'MELI', 'MCHP', 'MU', 'MSFT',\n",
       "       'MRNA', 'MDLZ', 'MNST', 'NTES', 'NFLX', 'NVDA', 'NXPI', 'ORLY',\n",
       "       'OKTA', 'PCAR', 'PAYX', 'PYPL', 'PTON', 'PEP', 'PDD', 'QCOM',\n",
       "       'REGN', 'ROST', 'SGEN', 'SIRI', 'SWKS', 'SPLK', 'SBUX', 'SNPS',\n",
       "       'TMUS', 'TSLA', 'TXN', 'TCOM', 'VRSN', 'VRSK', 'VRTX', 'WBA',\n",
       "       'WDAY', 'XEL', 'XLNX', 'ZM'], dtype='<U5')"
      ]
     },
     "execution_count": 5,
     "metadata": {},
     "output_type": "execute_result"
    }
   ],
   "source": [
    "nasdaq100symbols = np.array(current_nasdaq100_symbols())\n",
    "nasdaq100symbols"
   ]
  },
  {
   "cell_type": "code",
   "execution_count": 6,
   "id": "corporate-divorce",
   "metadata": {},
   "outputs": [
    {
     "data": {
      "text/plain": [
       "array(['LB', 'ENPH', 'TT', 'GOOGL', 'ZION', 'AKAM', 'CF', 'RCL', 'LOW',\n",
       "       'APH', 'EIX', 'ITW', 'ADI', 'RE', 'ROST', 'V', 'AWK', 'AIG', 'UAL',\n",
       "       'WBA', 'VTR', 'WRB', 'ES', 'GRMN', 'AMAT', 'HOLX', 'JNPR', 'UNM',\n",
       "       'LKQ', 'ABBV', 'ISRG', 'HCA', 'DGX', 'LYV', 'GWW', 'EBAY', 'CPRT',\n",
       "       'STZ', 'FAST', 'ZBH', 'NCLH', 'CDW', 'RF', 'PEG', 'PRU', 'GILD',\n",
       "       'LEN', 'INTU', 'NTRS', 'KMI', 'SBAC', 'DOW', 'AMGN', 'XLNX',\n",
       "       'OTIS', 'XOM', 'XYL', 'ABC', 'ALXN', 'JNJ', 'NWL', 'STX', 'VZ',\n",
       "       'HST', 'MU', 'ANET', 'GS', 'VTRS', 'PEAK', 'QCOM', 'SCHW', 'AIZ',\n",
       "       'SYF', 'CRM', 'ILMN', 'APD', 'FDX', 'COST', 'ORLY', 'NXPI', 'DISH',\n",
       "       'LMT', 'MS', 'IVZ', 'ZTS', 'WAB', 'NWSA', 'PKG', 'IR', 'IRM',\n",
       "       'KSU', 'ATVI', 'PPG', 'MSI', 'AAL', 'REG', 'FTV', 'INFO', 'ALGN',\n",
       "       'MHK', 'TTWO', 'PH', 'MRO', 'DHI', 'HLT', 'BA', 'CDNS', 'PYPL',\n",
       "       'OGN', 'NTES', 'SRE', 'PFE', 'FOXA', 'AEP', 'AVY', 'ABT', 'BKNG',\n",
       "       'EXR', 'TPR', 'STT', 'PPL', 'ADBE', 'CVX', 'PTC', 'ABMD', 'BLL',\n",
       "       'HON', 'MKC', 'NRG', 'CSCO', 'AOS', 'AZO', 'AMD', 'KDP', 'GL',\n",
       "       'SO', 'FLT', 'PLD', 'PG', 'IFF', 'WST', 'AJG', 'MRNA', 'MELI',\n",
       "       'NFLX', 'ACN', 'CTAS', 'AXP', 'AVB', 'IEX', 'DIS', 'FITB', 'MMC',\n",
       "       'MNST', 'ALL', 'DRI', 'WRK', 'WMB', 'CMS', 'PNC', 'NLSN', 'OKTA',\n",
       "       'ASML', 'CAH', 'TDY', 'LLY', 'O', 'WYNN', 'NSC', 'LNC', 'GIS',\n",
       "       'BBY', 'EW', 'BAC', 'PSA', 'YUM', 'ROP', 'PM', 'GLW', 'WM', 'HPE',\n",
       "       'TEAM', 'WDC', 'NWS', 'PHM', 'AFL', 'COG', 'CL', 'HWM', 'ORCL',\n",
       "       'IQV', 'COF', 'OKE', 'OMC', 'CCL', 'AES', 'COO', 'FISV', 'MPWR',\n",
       "       'EVRG', 'CHD', 'DOV', 'CHRW', 'BLK', 'DPZ', 'SEE', 'MMM', 'DLR',\n",
       "       'TSN', 'EL', 'DAL', 'VNO', 'HIG', 'BIIB', 'CTLT', 'FTNT', 'UNP',\n",
       "       'ICE', 'ECL', 'GPC', 'UA', 'KLAC', 'CNC', 'GD', 'GPN', 'BAX', 'BK',\n",
       "       'BRK.B', 'CHKP', 'CTSH', 'ODFL', 'BR', 'HII', 'SJM', 'PXD', 'FANG',\n",
       "       'CNP', 'MSCI', 'MCHP', 'TDG', 'CMG', 'WFC', 'NOW', 'KIM', 'TJX',\n",
       "       'AMT', 'F', 'LEG', 'TFC', 'CMA', 'EA', 'JBHT', 'ADP', 'DISCK',\n",
       "       'NOV', 'KEYS', 'CME', 'NTAP', 'J', 'LDOS', 'GPS', 'PKI', 'NUE',\n",
       "       'EMR', 'ROL', 'NKE', 'L', 'QRVO', 'AMZN', 'PTON', 'NDAQ', 'ADSK',\n",
       "       'RL', 'ROK', 'DTE', 'EOG', 'HAL', 'EXPE', 'ULTA', 'CLX', 'BXP',\n",
       "       'TMO', 'FCX', 'PBCT', 'BWA', 'SNPS', 'INTC', 'URI', 'RMD', 'CB',\n",
       "       'HUM', 'TWTR', 'SYY', 'WHR', 'CERN', 'PRGO', 'WMT', 'PVH', 'OXY',\n",
       "       'AVGO', 'MDLZ', 'CZR', 'KMB', 'NEE', 'BIDU', 'INCY', 'CMI', 'PDD',\n",
       "       'DHR', 'HSIC', 'DVN', 'CINF', 'EXC', 'PGR', 'MAR', 'BSX', 'SBUX',\n",
       "       'FMC', 'SWKS', 'XRAY', 'JD', 'NI', 'JKHY', 'FRC', 'IPG', 'LULU',\n",
       "       'MLM', 'HSY', 'LNT', 'GOOG', 'MET', 'WLTW', 'JCI', 'IBM', 'HD',\n",
       "       'AEE', 'FBHS', 'TSLA', 'PENN', 'ZBRA', 'DXCM', 'SIRI', 'VRTX',\n",
       "       'MA', 'PSX', 'EQIX', 'K', 'MO', 'RHI', 'SPLK', 'ALK', 'VRSK',\n",
       "       'BKR', 'MTD', 'SIVB', 'A', 'MAA', 'DXC', 'BMY', 'LUMN', 'CTXS',\n",
       "       'KO', 'HAS', 'ZM', 'NVR', 'MOS', 'PWR', 'AMCR', 'HPQ', 'SPGI',\n",
       "       'CPB', 'BEN', 'IPGP', 'ED', 'CTVA', 'FIS', 'CE', 'NLOK', 'EQR',\n",
       "       'COP', 'PNR', 'CARR', 'JPM', 'MRVL', 'LHX', 'ETR', 'AAPL', 'TFX',\n",
       "       'MGM', 'NOC', 'PEP', 'BDX', 'ADM', 'IT', 'VFC', 'TEL', 'KR',\n",
       "       'PCAR', 'KMX', 'RJF', 'MCO', 'STE', 'GNRC', 'UHS', 'BF.B', 'FFIV',\n",
       "       'UAA', 'EFX', 'HBI', 'TGT', 'MCK', 'REGN', 'CSX', 'TER', 'WY',\n",
       "       'AME', 'AMP', 'UDR', 'WAT', 'CMCSA', 'DVA', 'RSG', 'DOCU', 'CCI',\n",
       "       'AAP', 'ARE', 'UPS', 'WDAY', 'PAYX', 'MKTX', 'C', 'SWK', 'T',\n",
       "       'SNA', 'CVS', 'VLO', 'ANTM', 'DUK', 'HRL', 'TSCO', 'DLTR', 'MRK',\n",
       "       'SPG', 'APTV', 'DRE', 'SLB', 'RTX', 'DFS', 'PNW', 'WELL', 'DG',\n",
       "       'LRCX', 'CBRE', 'MAS', 'SGEN', 'UNH', 'TCOM', 'PAYC', 'NVDA',\n",
       "       'CAT', 'CRL', 'APA', 'ATO', 'BIO', 'ETN', 'VMC', 'ALB', 'ALLE',\n",
       "       'POOL', 'MPC', 'WU', 'MDT', 'TROW', 'CI', 'USB', 'XEL', 'FE',\n",
       "       'TXT', 'FRT', 'NEM', 'SHW', 'MXIM', 'ESS', 'SYK', 'FB', 'TYL',\n",
       "       'DD', 'CBOE', 'CAG', 'WEC', 'MCD', 'ANSS', 'CFG', 'MTB', 'DISCA',\n",
       "       'LH', 'HBAN', 'IP', 'VIAC', 'HES', 'CHTR', 'DE', 'TXN', 'KEY',\n",
       "       'LYB', 'GE', 'FOX', 'TMUS', 'TRMB', 'LW', 'AON', 'GM', 'LVS',\n",
       "       'EMN', 'MSFT', 'LUV', 'MTCH', 'PFG', 'VRSN', 'TAP', 'ETSY', 'D',\n",
       "       'EXPD', 'TRV', 'IDXX', 'KHC', 'LIN'], dtype='<U5')"
      ]
     },
     "execution_count": 6,
     "metadata": {},
     "output_type": "execute_result"
    }
   ],
   "source": [
    "allSymbols = np.concatenate((nasdaq100symbols,sp500symbols), axis=None)\n",
    "setAllSymbols = np.array(list(set(allSymbols)))\n",
    "setAllSymbols\n"
   ]
  },
  {
   "cell_type": "code",
   "execution_count": 8,
   "id": "negative-wagner",
   "metadata": {},
   "outputs": [
    {
     "name": "stdout",
     "output_type": "stream",
     "text": [
      "{} {'Previous Close': '199.07', 'Open': '200.51', 'Bid': '199.50 x 900', 'Ask': '200.48 x 1300', \"Day's Range\": '198.94 - 201.04', '52 Week Range': '148.80 - 208.95', 'Volume': '1,520,774', 'Avg. Volume': '2,199,433', 'Market Cap': '116.219B', 'Beta (5Y Monthly)': '0.96', 'PE Ratio (TTM)': '20.52', 'EPS (TTM)': '9.77', 'Earnings Date': 'Jul 27, 2021', 'Forward Dividend & Yield': '5.92 (2.95%)', 'Ex-Dividend Date': 'May 20, 2021'}\n"
     ]
    },
    {
     "ename": "KeyError",
     "evalue": "'52-Week Change 3'",
     "output_type": "error",
     "traceback": [
      "\u001b[1;31m---------------------------------------------------------------------------\u001b[0m",
      "\u001b[1;31mKeyError\u001b[0m                                  Traceback (most recent call last)",
      "\u001b[1;32m<ipython-input-8-7c8a2747a2a7>\u001b[0m in \u001b[0;36m<module>\u001b[1;34m\u001b[0m\n\u001b[0;32m      9\u001b[0m     \u001b[0mmarketCap\u001b[0m \u001b[1;33m=\u001b[0m \u001b[0mparse_value\u001b[0m\u001b[1;33m(\u001b[0m\u001b[0mbasic\u001b[0m\u001b[1;33m[\u001b[0m\u001b[1;34m\"Market Cap\"\u001b[0m\u001b[1;33m]\u001b[0m\u001b[1;33m)\u001b[0m\u001b[1;33m\u001b[0m\u001b[1;33m\u001b[0m\u001b[0m\n\u001b[0;32m     10\u001b[0m     \u001b[0mpreviousClose\u001b[0m \u001b[1;33m=\u001b[0m \u001b[0mparse_value\u001b[0m\u001b[1;33m(\u001b[0m\u001b[0mbasic\u001b[0m\u001b[1;33m[\u001b[0m\u001b[1;34m\"Previous Close\"\u001b[0m\u001b[1;33m]\u001b[0m\u001b[1;33m)\u001b[0m\u001b[1;33m\u001b[0m\u001b[1;33m\u001b[0m\u001b[0m\n\u001b[1;32m---> 11\u001b[1;33m     \u001b[0mfiftyTwoWeekChange\u001b[0m \u001b[1;33m=\u001b[0m \u001b[0mpreviousClose\u001b[0m \u001b[1;33m/\u001b[0m \u001b[1;33m(\u001b[0m\u001b[1;36m1\u001b[0m\u001b[1;33m+\u001b[0m\u001b[0mparse_value\u001b[0m\u001b[1;33m(\u001b[0m\u001b[0mcomplexStats\u001b[0m\u001b[1;33m[\u001b[0m\u001b[1;34m\"52-Week Change 3\"\u001b[0m\u001b[1;33m]\u001b[0m\u001b[1;33m)\u001b[0m\u001b[1;33m)\u001b[0m\u001b[1;33m\u001b[0m\u001b[1;33m\u001b[0m\u001b[0m\n\u001b[0m\u001b[0;32m     12\u001b[0m     \u001b[0mdataframe\u001b[0m \u001b[1;33m=\u001b[0m \u001b[0mdataframe\u001b[0m\u001b[1;33m.\u001b[0m\u001b[0mappend\u001b[0m\u001b[1;33m(\u001b[0m\u001b[0mpd\u001b[0m\u001b[1;33m.\u001b[0m\u001b[0mSeries\u001b[0m\u001b[1;33m(\u001b[0m\u001b[1;33m[\u001b[0m\u001b[0msym\u001b[0m\u001b[1;33m,\u001b[0m\u001b[0mpreviousClose\u001b[0m\u001b[1;33m,\u001b[0m\u001b[0mround\u001b[0m\u001b[1;33m(\u001b[0m\u001b[0mmarketCap\u001b[0m\u001b[1;33m)\u001b[0m\u001b[1;33m,\u001b[0m\u001b[0mfiftyTwoWeekChange\u001b[0m\u001b[1;33m,\u001b[0m\u001b[1;34m\"N/A\"\u001b[0m\u001b[1;33m]\u001b[0m\u001b[1;33m,\u001b[0m \u001b[0mindex\u001b[0m\u001b[1;33m=\u001b[0m\u001b[0mmy_columns\u001b[0m\u001b[1;33m)\u001b[0m\u001b[1;33m,\u001b[0m \u001b[0mignore_index\u001b[0m\u001b[1;33m=\u001b[0m\u001b[1;32mTrue\u001b[0m\u001b[1;33m)\u001b[0m\u001b[1;33m\u001b[0m\u001b[1;33m\u001b[0m\u001b[0m\n\u001b[0;32m     13\u001b[0m     \u001b[0mprint\u001b[0m\u001b[1;33m(\u001b[0m\u001b[0msym\u001b[0m\u001b[1;33m,\u001b[0m \u001b[0mround\u001b[0m\u001b[1;33m(\u001b[0m\u001b[0mmarketCap\u001b[0m\u001b[1;33m)\u001b[0m\u001b[1;33m,\u001b[0m \u001b[0mpreviousClose\u001b[0m\u001b[1;33m)\u001b[0m\u001b[1;33m\u001b[0m\u001b[1;33m\u001b[0m\u001b[0m\n",
      "\u001b[1;31mKeyError\u001b[0m: '52-Week Change 3'"
     ]
    }
   ],
   "source": [
    "my_columns = [\"Ticker\", \"Stock Price\", \"Market Cap\", \"52 Week Change\", \"Number of Shares to Buy\"]\n",
    "dataframe = pd.DataFrame(columns=my_columns)\n",
    "for sym in sp500symbols[0:4]:\n",
    "    if(sym.find(\".\") > -1):\n",
    "        sym = sym.replace(\".\", \"-\")\n",
    "    basic = basic_stats(sym)\n",
    "    complexStats = extended_stock_stats(sym)\n",
    "    print(complexStats, basic)\n",
    "    marketCap = parse_value(basic[\"Market Cap\"])\n",
    "    previousClose = parse_value(basic[\"Previous Close\"])\n",
    "    fiftyTwoWeekChange = previousClose / (1+parse_value(complexStats[\"52-Week Change 3\"]))\n",
    "    dataframe = dataframe.append(pd.Series([sym,previousClose,round(marketCap),fiftyTwoWeekChange,\"N/A\"], index=my_columns), ignore_index=True)\n",
    "    print(sym, round(marketCap), previousClose)\n",
    "dataframe.to_csv(\"lastDataframe_bak.csv\")\n",
    "dataframe"
   ]
  },
  {
   "cell_type": "code",
   "execution_count": null,
   "id": "decreased-content",
   "metadata": {},
   "outputs": [],
   "source": [
    "dataframe.to_csv(\"lastDataframe.csv\")"
   ]
  },
  {
   "cell_type": "code",
   "execution_count": null,
   "id": "binary-delhi",
   "metadata": {},
   "outputs": [],
   "source": [
    "portfolio_size = input(\"How large is your portfolio?\")"
   ]
  },
  {
   "cell_type": "code",
   "execution_count": null,
   "id": "worst-amount",
   "metadata": {},
   "outputs": [],
   "source": [
    "portfolio_size = float(portfolio_size)\n",
    "portfolio_size"
   ]
  },
  {
   "cell_type": "code",
   "execution_count": null,
   "id": "aggregate-communications",
   "metadata": {},
   "outputs": [],
   "source": [
    "position_size = portfolio_size / len(dataframe.index)\n",
    "print(position_size)\n",
    "for i in range(0,len(dataframe.index)):\n",
    "    dataframe.loc[i,\"Number of Shares to Buy\"] = math.floor(position_size/dataframe.loc[i,\"Stock Price\"])\n",
    "\n",
    "dataframe.to_csv(\"lastDataframeWithSharesToBuy.csv\")\n",
    "dataframe"
   ]
  },
  {
   "cell_type": "raw",
   "id": "fluid-processing",
   "metadata": {},
   "source": []
  },
  {
   "cell_type": "code",
   "execution_count": 6,
   "id": "empirical-advantage",
   "metadata": {},
   "outputs": [
    {
     "data": {
      "text/plain": [
       "{'currency': 'USD',\n",
       " 'symbol': 'TTWO',\n",
       " 'exchangeName': 'NMS',\n",
       " 'instrumentType': 'EQUITY',\n",
       " 'firstTradeDate': 861111000,\n",
       " 'regularMarketTime': 1614373202,\n",
       " 'gmtoffset': -18000,\n",
       " 'timezone': 'EST',\n",
       " 'exchangeTimezoneName': 'America/New_York',\n",
       " 'regularMarketPrice': 184.46,\n",
       " 'chartPreviousClose': 109.47,\n",
       " 'priceHint': 2,\n",
       " 'currentTradingPeriod': {'pre': {'timezone': 'EST',\n",
       "   'start': 1614330000,\n",
       "   'end': 1614349800,\n",
       "   'gmtoffset': -18000},\n",
       "  'regular': {'timezone': 'EST',\n",
       "   'start': 1614349800,\n",
       "   'end': 1614373200,\n",
       "   'gmtoffset': -18000},\n",
       "  'post': {'timezone': 'EST',\n",
       "   'start': 1614373200,\n",
       "   'end': 1614387600,\n",
       "   'gmtoffset': -18000}},\n",
       " 'dataGranularity': '1d',\n",
       " 'range': '1y',\n",
       " 'validRanges': ['1d',\n",
       "  '5d',\n",
       "  '1mo',\n",
       "  '3mo',\n",
       "  '6mo',\n",
       "  '1y',\n",
       "  '2y',\n",
       "  '5y',\n",
       "  '10y',\n",
       "  'ytd',\n",
       "  'max']}"
      ]
     },
     "execution_count": 6,
     "metadata": {},
     "output_type": "execute_result"
    }
   ],
   "source": [
    "metadataAndPrice = metadata_price_action(symbol, timeInterval, timeRange)\n",
    "metadata = metadataAndPrice[\"metadata\"]\n",
    "metadata"
   ]
  },
  {
   "cell_type": "code",
   "execution_count": 7,
   "id": "sound-viking",
   "metadata": {},
   "outputs": [
    {
     "data": {
      "text/html": [
       "<div>\n",
       "<style scoped>\n",
       "    .dataframe tbody tr th:only-of-type {\n",
       "        vertical-align: middle;\n",
       "    }\n",
       "\n",
       "    .dataframe tbody tr th {\n",
       "        vertical-align: top;\n",
       "    }\n",
       "\n",
       "    .dataframe thead th {\n",
       "        text-align: right;\n",
       "    }\n",
       "</style>\n",
       "<table border=\"1\" class=\"dataframe\">\n",
       "  <thead>\n",
       "    <tr style=\"text-align: right;\">\n",
       "      <th></th>\n",
       "      <th>timestamp</th>\n",
       "      <th>high</th>\n",
       "      <th>open</th>\n",
       "      <th>close</th>\n",
       "      <th>low</th>\n",
       "      <th>volume</th>\n",
       "    </tr>\n",
       "  </thead>\n",
       "  <tbody>\n",
       "    <tr>\n",
       "      <th>0</th>\n",
       "      <td>1582813800</td>\n",
       "      <td>111.959999</td>\n",
       "      <td>107.559998</td>\n",
       "      <td>107.839996</td>\n",
       "      <td>106.220001</td>\n",
       "      <td>2502800</td>\n",
       "    </tr>\n",
       "    <tr>\n",
       "      <th>1</th>\n",
       "      <td>1582900200</td>\n",
       "      <td>109.279999</td>\n",
       "      <td>106.559998</td>\n",
       "      <td>107.480003</td>\n",
       "      <td>105.269997</td>\n",
       "      <td>3385300</td>\n",
       "    </tr>\n",
       "    <tr>\n",
       "      <th>2</th>\n",
       "      <td>1583159400</td>\n",
       "      <td>112.129997</td>\n",
       "      <td>108.580002</td>\n",
       "      <td>112.059998</td>\n",
       "      <td>107.919998</td>\n",
       "      <td>2321900</td>\n",
       "    </tr>\n",
       "    <tr>\n",
       "      <th>3</th>\n",
       "      <td>1583245800</td>\n",
       "      <td>115.040001</td>\n",
       "      <td>111.750000</td>\n",
       "      <td>111.220001</td>\n",
       "      <td>109.809998</td>\n",
       "      <td>2073500</td>\n",
       "    </tr>\n",
       "    <tr>\n",
       "      <th>4</th>\n",
       "      <td>1583332200</td>\n",
       "      <td>119.790001</td>\n",
       "      <td>113.440002</td>\n",
       "      <td>119.419998</td>\n",
       "      <td>113.440002</td>\n",
       "      <td>2573300</td>\n",
       "    </tr>\n",
       "    <tr>\n",
       "      <th>...</th>\n",
       "      <td>...</td>\n",
       "      <td>...</td>\n",
       "      <td>...</td>\n",
       "      <td>...</td>\n",
       "      <td>...</td>\n",
       "      <td>...</td>\n",
       "    </tr>\n",
       "    <tr>\n",
       "      <th>248</th>\n",
       "      <td>1614004200</td>\n",
       "      <td>195.399994</td>\n",
       "      <td>191.619995</td>\n",
       "      <td>189.850006</td>\n",
       "      <td>189.520004</td>\n",
       "      <td>1704700</td>\n",
       "    </tr>\n",
       "    <tr>\n",
       "      <th>249</th>\n",
       "      <td>1614090600</td>\n",
       "      <td>187.139999</td>\n",
       "      <td>184.050003</td>\n",
       "      <td>185.949997</td>\n",
       "      <td>181.110001</td>\n",
       "      <td>2062400</td>\n",
       "    </tr>\n",
       "    <tr>\n",
       "      <th>250</th>\n",
       "      <td>1614177000</td>\n",
       "      <td>187.429993</td>\n",
       "      <td>184.800003</td>\n",
       "      <td>186.990005</td>\n",
       "      <td>182.380005</td>\n",
       "      <td>1218900</td>\n",
       "    </tr>\n",
       "    <tr>\n",
       "      <th>251</th>\n",
       "      <td>1614263400</td>\n",
       "      <td>188.500000</td>\n",
       "      <td>186.389999</td>\n",
       "      <td>184.679993</td>\n",
       "      <td>181.929993</td>\n",
       "      <td>1217400</td>\n",
       "    </tr>\n",
       "    <tr>\n",
       "      <th>252</th>\n",
       "      <td>1614349800</td>\n",
       "      <td>186.990005</td>\n",
       "      <td>185.380005</td>\n",
       "      <td>184.460007</td>\n",
       "      <td>182.380005</td>\n",
       "      <td>1476400</td>\n",
       "    </tr>\n",
       "  </tbody>\n",
       "</table>\n",
       "<p>253 rows × 6 columns</p>\n",
       "</div>"
      ],
      "text/plain": [
       "      timestamp        high        open       close         low   volume\n",
       "0    1582813800  111.959999  107.559998  107.839996  106.220001  2502800\n",
       "1    1582900200  109.279999  106.559998  107.480003  105.269997  3385300\n",
       "2    1583159400  112.129997  108.580002  112.059998  107.919998  2321900\n",
       "3    1583245800  115.040001  111.750000  111.220001  109.809998  2073500\n",
       "4    1583332200  119.790001  113.440002  119.419998  113.440002  2573300\n",
       "..          ...         ...         ...         ...         ...      ...\n",
       "248  1614004200  195.399994  191.619995  189.850006  189.520004  1704700\n",
       "249  1614090600  187.139999  184.050003  185.949997  181.110001  2062400\n",
       "250  1614177000  187.429993  184.800003  186.990005  182.380005  1218900\n",
       "251  1614263400  188.500000  186.389999  184.679993  181.929993  1217400\n",
       "252  1614349800  186.990005  185.380005  184.460007  182.380005  1476400\n",
       "\n",
       "[253 rows x 6 columns]"
      ]
     },
     "execution_count": 7,
     "metadata": {},
     "output_type": "execute_result"
    }
   ],
   "source": [
    "price = metadataAndPrice[\"price\"]\n",
    "price"
   ]
  },
  {
   "cell_type": "code",
   "execution_count": null,
   "id": "turned-atlas",
   "metadata": {},
   "outputs": [],
   "source": [
    "basicStats = basic_stats(symbol)\n",
    "basicStats"
   ]
  },
  {
   "cell_type": "code",
   "execution_count": null,
   "id": "consecutive-calcium",
   "metadata": {},
   "outputs": [],
   "source": [
    "extStats = extended_stock_stats(symbol)\n",
    "extStats"
   ]
  },
  {
   "cell_type": "code",
   "execution_count": 3,
   "id": "rural-donor",
   "metadata": {},
   "outputs": [
    {
     "name": "stdout",
     "output_type": "stream",
     "text": [
      "[<section class=\"smartphone_Px(20px) Mb(30px)\" data-reactid=\"2\" data-test=\"qsp-financial\" data-yaft-module=\"tdv2-applet-Financials\"><div class=\"Mt(18px) Mb(15px)\" data-reactid=\"3\"><div class=\"IbBox\" data-reactid=\"4\"><span class=\"Mend(10px) smartphone_D(n)\" data-reactid=\"5\"><span data-reactid=\"6\">Show</span><!-- react-text: 7 -->:<!-- /react-text --></span><div class=\"D(ib)\" data-reactid=\"8\"><a class=\"Mend(10px) P(0px) M(0px) C($linkColor) C($primaryColor):h Bd(0px) O(n)\" data-reactid=\"9\" href=\"/quote/AMD/financials?p=AMD\"><div class=\"Fw(500) D(ib) Pend(10px) H(18px) BdEnd Bdc($seperatorColor)\" data-reactid=\"10\"><span data-reactid=\"11\">Income Statement</span></div></a><div class=\"Mend(10px) D(ib) C($primaryColor) Fw(b) Pend(10px) H(18px) selected BdEnd Bdc($seperatorColor)\" data-reactid=\"12\"><span data-reactid=\"13\">Balance Sheet</span></div><a class=\"Mend(10px) P(0px) M(0px) C($linkColor) C($primaryColor):h Bd(0px) O(n)\" data-reactid=\"14\" href=\"/quote/AMD/cash-flow?p=AMD\"><div class=\"Fw(500) D(ib) Pend(10px) H(18px)\" data-reactid=\"15\"><span data-reactid=\"16\">Cash Flow</span></div></a></div></div><div class=\"Fl(end) smartphone_Fl(n) IbBox smartphone_My(10px) smartphone_D(b) Whs(nw)\" data-reactid=\"17\"><div class=\"Fz(s) Fw(500) D(ib) H(18px) C($primaryColor):h BdEnd Bdc($seperatorColor) Pend(10px) Mend(10px) C($primaryColor)\" data-reactid=\"18\"><span data-reactid=\"19\">Annual</span></div><button class=\"P(0px) M(0px) C($linkColor) Bd(0px) O(n)\" data-reactid=\"20\"><div class=\"Fz(s) Fw(500) D(ib) H(18px) C($primaryColor):h C($linkColor)\" data-reactid=\"21\"><span data-reactid=\"22\">Quarterly</span></div></button><span class=\"Pos(r) smplTblTooltip C($linkColor) BdStart Bdc($seperatorColor) Pstart(10px) Mstart(10px)\" data-reactid=\"23\"><span class=\"Pos(a) Z(3) Bgc($lv3BgColor) Bd($featurePromoBorder) Bxsh($boxAreaShadow) smplTblTooltip:h_V(v) V(h) P(10px) D(ib) Fz(12px) C($tertiaryColor) Fw(500) Mt(25px) W(150px) smartphone_W(a) Whs(n)\" data-reactid=\"24\"><!-- react-text: 25 -->Subscribe to Premium to download historical data<!-- /react-text --><div class=\"Pos(a) H(0) W(0) Bdbc($seperatorColor) End(100%) Bds(s) Bdw(10px) Bdstartc(t) Bdendc(t) Bdtc(t)\" data-reactid=\"26\" style=\"left:41px;top:-20px;\"></div><div class=\"Pos(a) H(0) W(0) Bdbc($lv3BgColor) End(100%) Bds(s) Bdw(10px) Bdstartc(t) Bdendc(t) Bdtc(t)\" data-reactid=\"27\" style=\"left:42px;top:-20px;\"></div></span><div class=\"D(ib) Va(tt) Mt(-2px)\" data-reactid=\"28\"><svg class=\"Va(m)! Mend(4px) Cur(a)! Cur(p)\" data-icon=\"pad-lock\" data-reactid=\"29\" height=\"12\" style=\"fill:#cc008c;stroke:#cc008c;stroke-width:0;vertical-align:bottom;\" viewbox=\"0 0 24 24\" width=\"12\"><path d=\"M3.9 23.4c-.497 0-.9-.408-.9-.912V9.725c0-.504.403-.912.9-.912h2.7c0-.077.002-3.497.005-3.574C6.725 2.324 9.095 0 12 0c2.917 0 5.294 2.343 5.397 5.273.002.065.003 3.474.003 3.54h2.7c.497 0 .9.408.9.912v12.763c0 .504-.403.912-.9.912H3.9zM12 13.37c-.497 0-.9.41-.9.913v3.647c0 .503.403.912.9.912s.9-.41.9-.912v-3.647c0-.504-.403-.912-.9-.912zm-3.586-8.1c-.012.127-.013 3.543-.013 3.543h7.2s-.002-3.406-.012-3.516c-.066-.725-.518-3.474-3.588-3.474-3.034 0-3.51 2.687-3.586 3.448z\" data-reactid=\"30\"></path></svg></div><button class=\"Fz(s) Fw(500) C($linkColor) P(0)\" data-reactid=\"31\" disabled=\"\"><span data-reactid=\"32\">Download</span></button></span></div></div><div class=\"Mb(10px)\" data-reactid=\"33\"><h3 class=\"D(ib) Fz(20px) Fw(b)\" data-reactid=\"34\"><span data-reactid=\"35\">Balance Sheet</span></h3><button class=\"expandPf Fz(s) Bd(0) C($linkColor) C($linkActiveColor):h Fw(500) D(n)--print Fl(end) Mt(5px)\" data-reactid=\"36\"><svg class=\"expandPf:h_Fill($linkActiveColor) expandPf:h_Stk($linkActiveColor) Va(m)! Mend(4px) Mt(-2px) Fill($linkColor)! Stk($linkColor)! Cur(p)\" data-icon=\"expand\" data-reactid=\"37\" height=\"12\" style=\"fill:#000;stroke:#000;stroke-width:0;vertical-align:bottom;\" viewbox=\"0 0 24 24\" width=\"12\"><path d=\"M10.663 11.988l-6.828 6.828v-4.53c0-.504-.41-.914-.915-.914-.506 0-.916.41-.916.915L2 22l7.712-.005c.506 0 .915-.41.915-.915 0-.506-.41-.916-.915-.916h-4.53l6.83-6.827-1.35-1.35zm4.624-10.984c-.505 0-.915.41-.915.916 0 .505.41.915.915.915h4.53l-6.83 6.828 1.35 1.348 6.827-6.827v4.53c0 .504.41.915.916.915s.916-.41.916-.916L23 1l-7.713.004z\" data-reactid=\"38\"></path></svg><div class=\"D(ib) D(n)--mobp\" data-reactid=\"39\"><span data-reactid=\"40\">Expand All</span></div></button><span class=\"Fz(xs) C($tertiaryColor) Mstart(25px) smartphone_Mstart(0px) smartphone_D(b) smartphone_Mt(5px)\" data-reactid=\"41\"><span data-reactid=\"42\">All numbers in thousands</span></span></div><div class=\"Mb(15px) Mt(5px) Py(5px) Pstart(10px)\" data-reactid=\"43\"><svg class=\"Va(m)! Cur(a)! Mb(2px) Fill($premiumAppCarrot)! Stk($premiumAppCarrot)! Cur(p)\" data-icon=\"pad-lock\" data-reactid=\"44\" height=\"16\" style=\"fill:#000;stroke:#000;stroke-width:0;vertical-align:bottom;\" viewbox=\"0 0 24 24\" width=\"16\"><path d=\"M3.9 23.4c-.497 0-.9-.408-.9-.912V9.725c0-.504.403-.912.9-.912h2.7c0-.077.002-3.497.005-3.574C6.725 2.324 9.095 0 12 0c2.917 0 5.294 2.343 5.397 5.273.002.065.003 3.474.003 3.54h2.7c.497 0 .9.408.9.912v12.763c0 .504-.403.912-.9.912H3.9zM12 13.37c-.497 0-.9.41-.9.913v3.647c0 .503.403.912.9.912s.9-.41.9-.912v-3.647c0-.504-.403-.912-.9-.912zm-3.586-8.1c-.012.127-.013 3.543-.013 3.543h7.2s-.002-3.406-.012-3.516c-.066-.725-.518-3.474-3.588-3.474-3.034 0-3.51 2.687-3.586 3.448z\" data-reactid=\"45\"></path></svg><span class=\"Mx(5px)\" data-reactid=\"46\">Get access to 40+ years of historical data with Yahoo Finance Premium.</span><a class=\"Td(n) Td(u):h C($linkColor) Fz(s) Fw(500)\" data-reactid=\"47\" data-test=\"prem-tea-ln\" href=\"/premium-marketing?ncid=qspfinancials_ahj8df4hjzo\"><span data-reactid=\"48\">Learn more</span></a></div><div class=\"Pos(r)\" data-reactid=\"49\"><div class=\"W(100%) Whs(nw) Ovx(a) BdT Bdtc($seperatorColor)\" data-reactid=\"50\"><div class=\"M(0) Whs(n) BdEnd Bdc($seperatorColor) D(itb)\" data-reactid=\"51\"><div class=\"D(tbhg)\" data-reactid=\"52\"><div class=\"D(tbr) C($primaryColor)\" data-reactid=\"53\"><div class=\"D(ib) Fw(b) Ta(start) Px(15px)--mv2 Px(10px) W(247px)--mv2 W(222px) Bxz(bb) Bdendw(1px) Bdstartw(1px) Bdbw(1px) Bdends(s) Bdstarts(s) Bdbs(s) Bdc($seperatorColor) Py(6px) Pos(st) Start(0) Bgc($lv2BgColor)\" data-reactid=\"54\"><span data-reactid=\"55\">Breakdown</span><div class=\"W(3px) Pos(a) Start(100%) T(0) H(100%) Bg($pfColumnFakeShadowGradient) Pe(n) Pend(5px)\" data-reactid=\"56\"></div></div><div class=\"Ta(c) Py(6px) Bxz(bb) BdB Bdc($seperatorColor) Miw(120px) Miw(140px)--pnclg D(ib) Fw(b)\" data-reactid=\"57\"><span data-reactid=\"58\">12/31/2020</span></div><div class=\"Ta(c) Py(6px) Bxz(bb) BdB Bdc($seperatorColor) Miw(120px) Miw(140px)--pnclg D(ib) Fw(b) Bgc($lv1BgColor)\" data-reactid=\"59\"><span data-reactid=\"60\">12/31/2019</span></div><div class=\"Ta(c) Py(6px) Bxz(bb) BdB Bdc($seperatorColor) Miw(120px) Miw(140px)--pnclg D(ib) Fw(b)\" data-reactid=\"61\"><span data-reactid=\"62\">12/31/2018</span></div><div class=\"Ta(c) Py(6px) Bxz(bb) BdB Bdc($seperatorColor) Miw(120px) Miw(140px)--pnclg D(ib) Fw(b) Bgc($lv1BgColor)\" data-reactid=\"63\"><span data-reactid=\"64\">12/31/2017</span></div></div></div><div class=\"D(tbrg)\" data-reactid=\"65\"><div class=\"\" data-reactid=\"66\" data-test=\"fin-row\"><div class=\"D(tbr) fi-row Bgc($hoverBgColor):h\" data-reactid=\"67\"><div class=\"D(tbc) Ta(start) Pend(15px)--mv2 Pend(10px) Bxz(bb) Py(8px) Bdends(s) Bdbs(s) Bdstarts(s) Bdstartw(1px) Bdbw(1px) Bdendw(1px) Bdc($seperatorColor) Pos(st) Start(0) Bgc($lv2BgColor) fi-row:h_Bgc($hoverBgColor) Pstart(15px)--mv2 Pstart(10px)\" data-reactid=\"68\"><div class=\"D(ib) Va(m) Ell Mt(-3px) W(215px)--mv2 W(200px) undefined\" data-reactid=\"69\" title=\"Total Assets\"><button class=\"P(0) M(0) Va(m) Bd(0) Fz(s) Mend(2px) tgglBtn\" data-reactid=\"70\"><svg class=\"H(16px) Fill($primaryColor) Stk($primaryColor) tgglBtn:h_Fill($linkColor) tgglBtn:h_Stk($linkColor) Cur(p)\" data-icon=\"caret-right\" data-reactid=\"71\" height=\"16\" style=\"stroke-width:0;vertical-align:bottom;\" viewbox=\"0 0 48 48\" width=\"16\"><path d=\"M33.447 24.102L20.72 11.375c-.78-.78-2.048-.78-2.828 0-.78.78-.78 2.047 0 2.828l9.9 9.9-9.9 9.9c-.78.78-.78 2.047 0 2.827.78.78 2.047.78 2.828 0l12.727-12.728z\" data-reactid=\"72\"></path></svg></button><span class=\"Va(m)\" data-reactid=\"73\">Total Assets</span></div><div class=\"W(3px) Pos(a) Start(100%) T(0) H(100%) Bg($pfColumnFakeShadowGradient) Pe(n) Pend(5px)\" data-reactid=\"74\"></div></div><div class=\"Ta(c) Py(6px) Bxz(bb) BdB Bdc($seperatorColor) Miw(120px) Miw(140px)--pnclg D(tbc)\" data-reactid=\"75\" data-test=\"fin-col\"><span data-reactid=\"76\">8,962,000</span></div><div class=\"Ta(c) Py(6px) Bxz(bb) BdB Bdc($seperatorColor) Miw(120px) Miw(140px)--pnclg Bgc($lv1BgColor) fi-row:h_Bgc($hoverBgColor) D(tbc)\" data-reactid=\"77\" data-test=\"fin-col\"><span data-reactid=\"78\">6,028,000</span></div><div class=\"Ta(c) Py(6px) Bxz(bb) BdB Bdc($seperatorColor) Miw(120px) Miw(140px)--pnclg D(tbc)\" data-reactid=\"79\" data-test=\"fin-col\"><span data-reactid=\"80\">4,556,000</span></div><div class=\"Ta(c) Py(6px) Bxz(bb) BdB Bdc($seperatorColor) Miw(120px) Miw(140px)--pnclg Bgc($lv1BgColor) fi-row:h_Bgc($hoverBgColor) D(tbc)\" data-reactid=\"81\" data-test=\"fin-col\"><span data-reactid=\"82\">3,540,000</span></div></div><div data-reactid=\"83\"></div></div><div class=\"\" data-reactid=\"84\" data-test=\"fin-row\"><div class=\"D(tbr) fi-row Bgc($hoverBgColor):h\" data-reactid=\"85\"><div class=\"D(tbc) Ta(start) Pend(15px)--mv2 Pend(10px) Bxz(bb) Py(8px) Bdends(s) Bdbs(s) Bdstarts(s) Bdstartw(1px) Bdbw(1px) Bdendw(1px) Bdc($seperatorColor) Pos(st) Start(0) Bgc($lv2BgColor) fi-row:h_Bgc($hoverBgColor) Pstart(15px)--mv2 Pstart(10px)\" data-reactid=\"86\"><div class=\"D(ib) Va(m) Ell Mt(-3px) W(215px)--mv2 W(200px) undefined\" data-reactid=\"87\" title=\"Total Liabilities Net Minority Interest\"><button class=\"P(0) M(0) Va(m) Bd(0) Fz(s) Mend(2px) tgglBtn\" data-reactid=\"88\"><svg class=\"H(16px) Fill($primaryColor) Stk($primaryColor) tgglBtn:h_Fill($linkColor) tgglBtn:h_Stk($linkColor) Cur(p)\" data-icon=\"caret-right\" data-reactid=\"89\" height=\"16\" style=\"stroke-width:0;vertical-align:bottom;\" viewbox=\"0 0 48 48\" width=\"16\"><path d=\"M33.447 24.102L20.72 11.375c-.78-.78-2.048-.78-2.828 0-.78.78-.78 2.047 0 2.828l9.9 9.9-9.9 9.9c-.78.78-.78 2.047 0 2.827.78.78 2.047.78 2.828 0l12.727-12.728z\" data-reactid=\"90\"></path></svg></button><span class=\"Va(m)\" data-reactid=\"91\">Total Liabilities Net Minority Interest</span></div><div class=\"W(3px) Pos(a) Start(100%) T(0) H(100%) Bg($pfColumnFakeShadowGradient) Pe(n) Pend(5px)\" data-reactid=\"92\"></div></div><div class=\"Ta(c) Py(6px) Bxz(bb) BdB Bdc($seperatorColor) Miw(120px) Miw(140px)--pnclg D(tbc)\" data-reactid=\"93\" data-test=\"fin-col\"><span data-reactid=\"94\">3,125,000</span></div><div class=\"Ta(c) Py(6px) Bxz(bb) BdB Bdc($seperatorColor) Miw(120px) Miw(140px)--pnclg Bgc($lv1BgColor) fi-row:h_Bgc($hoverBgColor) D(tbc)\" data-reactid=\"95\" data-test=\"fin-col\"><span data-reactid=\"96\">3,201,000</span></div><div class=\"Ta(c) Py(6px) Bxz(bb) BdB Bdc($seperatorColor) Miw(120px) Miw(140px)--pnclg D(tbc)\" data-reactid=\"97\" data-test=\"fin-col\"><span data-reactid=\"98\">3,290,000</span></div><div class=\"Ta(c) Py(6px) Bxz(bb) BdB Bdc($seperatorColor) Miw(120px) Miw(140px)--pnclg Bgc($lv1BgColor) fi-row:h_Bgc($hoverBgColor) D(tbc)\" data-reactid=\"99\" data-test=\"fin-col\"><span data-reactid=\"100\">2,929,000</span></div></div><div data-reactid=\"101\"></div></div><div class=\"\" data-reactid=\"102\" data-test=\"fin-row\"><div class=\"D(tbr) fi-row Bgc($hoverBgColor):h\" data-reactid=\"103\"><div class=\"D(tbc) Ta(start) Pend(15px)--mv2 Pend(10px) Bxz(bb) Py(8px) Bdends(s) Bdbs(s) Bdstarts(s) Bdstartw(1px) Bdbw(1px) Bdendw(1px) Bdc($seperatorColor) Pos(st) Start(0) Bgc($lv2BgColor) fi-row:h_Bgc($hoverBgColor) Pstart(15px)--mv2 Pstart(10px)\" data-reactid=\"104\"><div class=\"D(ib) Va(m) Ell Mt(-3px) W(215px)--mv2 W(200px) undefined\" data-reactid=\"105\" title=\"Total Equity Gross Minority Interest\"><button class=\"P(0) M(0) Va(m) Bd(0) Fz(s) Mend(2px) tgglBtn\" data-reactid=\"106\"><svg class=\"H(16px) Fill($primaryColor) Stk($primaryColor) tgglBtn:h_Fill($linkColor) tgglBtn:h_Stk($linkColor) Cur(p)\" data-icon=\"caret-right\" data-reactid=\"107\" height=\"16\" style=\"stroke-width:0;vertical-align:bottom;\" viewbox=\"0 0 48 48\" width=\"16\"><path d=\"M33.447 24.102L20.72 11.375c-.78-.78-2.048-.78-2.828 0-.78.78-.78 2.047 0 2.828l9.9 9.9-9.9 9.9c-.78.78-.78 2.047 0 2.827.78.78 2.047.78 2.828 0l12.727-12.728z\" data-reactid=\"108\"></path></svg></button><span class=\"Va(m)\" data-reactid=\"109\">Total Equity Gross Minority Interest</span></div><div class=\"W(3px) Pos(a) Start(100%) T(0) H(100%) Bg($pfColumnFakeShadowGradient) Pe(n) Pend(5px)\" data-reactid=\"110\"></div></div><div class=\"Ta(c) Py(6px) Bxz(bb) BdB Bdc($seperatorColor) Miw(120px) Miw(140px)--pnclg D(tbc)\" data-reactid=\"111\" data-test=\"fin-col\"><span data-reactid=\"112\">5,837,000</span></div><div class=\"Ta(c) Py(6px) Bxz(bb) BdB Bdc($seperatorColor) Miw(120px) Miw(140px)--pnclg Bgc($lv1BgColor) fi-row:h_Bgc($hoverBgColor) D(tbc)\" data-reactid=\"113\" data-test=\"fin-col\"><span data-reactid=\"114\">2,827,000</span></div><div class=\"Ta(c) Py(6px) Bxz(bb) BdB Bdc($seperatorColor) Miw(120px) Miw(140px)--pnclg D(tbc)\" data-reactid=\"115\" data-test=\"fin-col\"><span data-reactid=\"116\">1,266,000</span></div><div class=\"Ta(c) Py(6px) Bxz(bb) BdB Bdc($seperatorColor) Miw(120px) Miw(140px)--pnclg Bgc($lv1BgColor) fi-row:h_Bgc($hoverBgColor) D(tbc)\" data-reactid=\"117\" data-test=\"fin-col\"><span data-reactid=\"118\">611,000</span></div></div><div data-reactid=\"119\"></div></div><div class=\"\" data-reactid=\"120\" data-test=\"fin-row\"><div class=\"D(tbr) fi-row Bgc($hoverBgColor):h\" data-reactid=\"121\"><div class=\"D(tbc) Ta(start) Pend(15px)--mv2 Pend(10px) Bxz(bb) Py(8px) Bdends(s) Bdbs(s) Bdstarts(s) Bdstartw(1px) Bdbw(1px) Bdendw(1px) Bdc($seperatorColor) Pos(st) Start(0) Bgc($lv2BgColor) fi-row:h_Bgc($hoverBgColor) Pstart(15px)--mv2 Pstart(10px)\" data-reactid=\"122\"><div class=\"D(ib) Va(m) Ell Mt(-3px) W(215px)--mv2 W(200px) undefined\" data-reactid=\"123\" title=\"Total Capitalization\"><span class=\"Va(m)\" data-reactid=\"124\">Total Capitalization</span></div><div class=\"W(3px) Pos(a) Start(100%) T(0) H(100%) Bg($pfColumnFakeShadowGradient) Pe(n) Pend(5px)\" data-reactid=\"125\"></div></div><div class=\"Ta(c) Py(6px) Bxz(bb) BdB Bdc($seperatorColor) Miw(120px) Miw(140px)--pnclg D(tbc)\" data-reactid=\"126\" data-test=\"fin-col\"><span data-reactid=\"127\">6,167,000</span></div><div class=\"Ta(c) Py(6px) Bxz(bb) BdB Bdc($seperatorColor) Miw(120px) Miw(140px)--pnclg Bgc($lv1BgColor) fi-row:h_Bgc($hoverBgColor) D(tbc)\" data-reactid=\"128\" data-test=\"fin-col\"><span data-reactid=\"129\">3,313,000</span></div><div class=\"Ta(c) Py(6px) Bxz(bb) BdB Bdc($seperatorColor) Miw(120px) Miw(140px)--pnclg D(tbc)\" data-reactid=\"130\" data-test=\"fin-col\"><span data-reactid=\"131\">2,380,000</span></div><div class=\"Ta(c) Py(6px) Bxz(bb) BdB Bdc($seperatorColor) Miw(120px) Miw(140px)--pnclg Bgc($lv1BgColor) fi-row:h_Bgc($hoverBgColor) D(tbc)\" data-reactid=\"132\" data-test=\"fin-col\"><span data-reactid=\"133\">1,936,000</span></div></div><div data-reactid=\"134\"></div></div><!-- react-empty: 135 --><div class=\"\" data-reactid=\"136\" data-test=\"fin-row\"><div class=\"D(tbr) fi-row Bgc($hoverBgColor):h\" data-reactid=\"137\"><div class=\"D(tbc) Ta(start) Pend(15px)--mv2 Pend(10px) Bxz(bb) Py(8px) Bdends(s) Bdbs(s) Bdstarts(s) Bdstartw(1px) Bdbw(1px) Bdendw(1px) Bdc($seperatorColor) Pos(st) Start(0) Bgc($lv2BgColor) fi-row:h_Bgc($hoverBgColor) Pstart(15px)--mv2 Pstart(10px)\" data-reactid=\"138\"><div class=\"D(ib) Va(m) Ell Mt(-3px) W(215px)--mv2 W(200px) undefined\" data-reactid=\"139\" title=\"Common Stock Equity\"><span class=\"Va(m)\" data-reactid=\"140\">Common Stock Equity</span></div><div class=\"W(3px) Pos(a) Start(100%) T(0) H(100%) Bg($pfColumnFakeShadowGradient) Pe(n) Pend(5px)\" data-reactid=\"141\"></div></div><div class=\"Ta(c) Py(6px) Bxz(bb) BdB Bdc($seperatorColor) Miw(120px) Miw(140px)--pnclg D(tbc)\" data-reactid=\"142\" data-test=\"fin-col\"><span data-reactid=\"143\">5,837,000</span></div><div class=\"Ta(c) Py(6px) Bxz(bb) BdB Bdc($seperatorColor) Miw(120px) Miw(140px)--pnclg Bgc($lv1BgColor) fi-row:h_Bgc($hoverBgColor) D(tbc)\" data-reactid=\"144\" data-test=\"fin-col\"><span data-reactid=\"145\">2,827,000</span></div><div class=\"Ta(c) Py(6px) Bxz(bb) BdB Bdc($seperatorColor) Miw(120px) Miw(140px)--pnclg D(tbc)\" data-reactid=\"146\" data-test=\"fin-col\"><span data-reactid=\"147\">1,266,000</span></div><div class=\"Ta(c) Py(6px) Bxz(bb) BdB Bdc($seperatorColor) Miw(120px) Miw(140px)--pnclg Bgc($lv1BgColor) fi-row:h_Bgc($hoverBgColor) D(tbc)\" data-reactid=\"148\" data-test=\"fin-col\"><span data-reactid=\"149\">611,000</span></div></div><div data-reactid=\"150\"></div></div><div class=\"\" data-reactid=\"151\" data-test=\"fin-row\"><div class=\"D(tbr) fi-row Bgc($hoverBgColor):h\" data-reactid=\"152\"><div class=\"D(tbc) Ta(start) Pend(15px)--mv2 Pend(10px) Bxz(bb) Py(8px) Bdends(s) Bdbs(s) Bdstarts(s) Bdstartw(1px) Bdbw(1px) Bdendw(1px) Bdc($seperatorColor) Pos(st) Start(0) Bgc($lv2BgColor) fi-row:h_Bgc($hoverBgColor) Pstart(15px)--mv2 Pstart(10px)\" data-reactid=\"153\"><div class=\"D(ib) Va(m) Ell Mt(-3px) W(215px)--mv2 W(200px) undefined\" data-reactid=\"154\" title=\"Capital Lease Obligations\"><span class=\"Va(m)\" data-reactid=\"155\">Capital Lease Obligations</span></div><div class=\"W(3px) Pos(a) Start(100%) T(0) H(100%) Bg($pfColumnFakeShadowGradient) Pe(n) Pend(5px)\" data-reactid=\"156\"></div></div><div class=\"Ta(c) Py(6px) Bxz(bb) BdB Bdc($seperatorColor) Miw(120px) Miw(140px)--pnclg D(tbc)\" data-reactid=\"157\" data-test=\"fin-col\"><span data-reactid=\"158\">201,000</span></div><div class=\"Ta(c) Py(6px) Bxz(bb) BdB Bdc($seperatorColor) Miw(120px) Miw(140px)--pnclg Bgc($lv1BgColor) fi-row:h_Bgc($hoverBgColor) D(tbc)\" data-reactid=\"159\" data-test=\"fin-col\"><span data-reactid=\"160\">242,000</span></div><div class=\"Ta(c) Py(6px) Bxz(bb) BdB Bdc($seperatorColor) Miw(120px) Miw(140px)--pnclg D(tbc)\" data-reactid=\"161\" data-test=\"fin-col\">-</div><div class=\"Ta(c) Py(6px) Bxz(bb) BdB Bdc($seperatorColor) Miw(120px) Miw(140px)--pnclg Bgc($lv1BgColor) fi-row:h_Bgc($hoverBgColor) D(tbc)\" data-reactid=\"162\" data-test=\"fin-col\">-</div></div><div data-reactid=\"163\"></div></div><div class=\"\" data-reactid=\"164\" data-test=\"fin-row\"><div class=\"D(tbr) fi-row Bgc($hoverBgColor):h\" data-reactid=\"165\"><div class=\"D(tbc) Ta(start) Pend(15px)--mv2 Pend(10px) Bxz(bb) Py(8px) Bdends(s) Bdbs(s) Bdstarts(s) Bdstartw(1px) Bdbw(1px) Bdendw(1px) Bdc($seperatorColor) Pos(st) Start(0) Bgc($lv2BgColor) fi-row:h_Bgc($hoverBgColor) Pstart(15px)--mv2 Pstart(10px)\" data-reactid=\"166\"><div class=\"D(ib) Va(m) Ell Mt(-3px) W(215px)--mv2 W(200px) undefined\" data-reactid=\"167\" title=\"Net Tangible Assets\"><span class=\"Va(m)\" data-reactid=\"168\">Net Tangible Assets</span></div><div class=\"W(3px) Pos(a) Start(100%) T(0) H(100%) Bg($pfColumnFakeShadowGradient) Pe(n) Pend(5px)\" data-reactid=\"169\"></div></div><div class=\"Ta(c) Py(6px) Bxz(bb) BdB Bdc($seperatorColor) Miw(120px) Miw(140px)--pnclg D(tbc)\" data-reactid=\"170\" data-test=\"fin-col\"><span data-reactid=\"171\">5,319,000</span></div><div class=\"Ta(c) Py(6px) Bxz(bb) BdB Bdc($seperatorColor) Miw(120px) Miw(140px)--pnclg Bgc($lv1BgColor) fi-row:h_Bgc($hoverBgColor) D(tbc)\" data-reactid=\"172\" data-test=\"fin-col\"><span data-reactid=\"173\">2,328,000</span></div><div class=\"Ta(c) Py(6px) Bxz(bb) BdB Bdc($seperatorColor) Miw(120px) Miw(140px)--pnclg D(tbc)\" data-reactid=\"174\" data-test=\"fin-col\"><span data-reactid=\"175\">751,000</span></div><div class=\"Ta(c) Py(6px) Bxz(bb) BdB Bdc($seperatorColor) Miw(120px) Miw(140px)--pnclg Bgc($lv1BgColor) fi-row:h_Bgc($hoverBgColor) D(tbc)\" data-reactid=\"176\" data-test=\"fin-col\"><span data-reactid=\"177\">83,000</span></div></div><div data-reactid=\"178\"></div></div><div class=\"\" data-reactid=\"179\" data-test=\"fin-row\"><div class=\"D(tbr) fi-row Bgc($hoverBgColor):h\" data-reactid=\"180\"><div class=\"D(tbc) Ta(start) Pend(15px)--mv2 Pend(10px) Bxz(bb) Py(8px) Bdends(s) Bdbs(s) Bdstarts(s) Bdstartw(1px) Bdbw(1px) Bdendw(1px) Bdc($seperatorColor) Pos(st) Start(0) Bgc($lv2BgColor) fi-row:h_Bgc($hoverBgColor) Pstart(15px)--mv2 Pstart(10px)\" data-reactid=\"181\"><div class=\"D(ib) Va(m) Ell Mt(-3px) W(215px)--mv2 W(200px) undefined\" data-reactid=\"182\" title=\"Working Capital\"><span class=\"Va(m)\" data-reactid=\"183\">Working Capital</span></div><div class=\"W(3px) Pos(a) Start(100%) T(0) H(100%) Bg($pfColumnFakeShadowGradient) Pe(n) Pend(5px)\" data-reactid=\"184\"></div></div><div class=\"Ta(c) Py(6px) Bxz(bb) BdB Bdc($seperatorColor) Miw(120px) Miw(140px)--pnclg D(tbc)\" data-reactid=\"185\" data-test=\"fin-col\"><span data-reactid=\"186\">3,726,000</span></div><div class=\"Ta(c) Py(6px) Bxz(bb) BdB Bdc($seperatorColor) Miw(120px) Miw(140px)--pnclg Bgc($lv1BgColor) fi-row:h_Bgc($hoverBgColor) D(tbc)\" data-reactid=\"187\" data-test=\"fin-col\"><span data-reactid=\"188\">2,238,000</span></div><div class=\"Ta(c) Py(6px) Bxz(bb) BdB Bdc($seperatorColor) Miw(120px) Miw(140px)--pnclg D(tbc)\" data-reactid=\"189\" data-test=\"fin-col\"><span data-reactid=\"190\">1,556,000</span></div><div class=\"Ta(c) Py(6px) Bxz(bb) BdB Bdc($seperatorColor) Miw(120px) Miw(140px)--pnclg Bgc($lv1BgColor) fi-row:h_Bgc($hoverBgColor) D(tbc)\" data-reactid=\"191\" data-test=\"fin-col\"><span data-reactid=\"192\">1,136,000</span></div></div><div data-reactid=\"193\"></div></div><div class=\"\" data-reactid=\"194\" data-test=\"fin-row\"><div class=\"D(tbr) fi-row Bgc($hoverBgColor):h\" data-reactid=\"195\"><div class=\"D(tbc) Ta(start) Pend(15px)--mv2 Pend(10px) Bxz(bb) Py(8px) Bdends(s) Bdbs(s) Bdstarts(s) Bdstartw(1px) Bdbw(1px) Bdendw(1px) Bdc($seperatorColor) Pos(st) Start(0) Bgc($lv2BgColor) fi-row:h_Bgc($hoverBgColor) Pstart(15px)--mv2 Pstart(10px)\" data-reactid=\"196\"><div class=\"D(ib) Va(m) Ell Mt(-3px) W(215px)--mv2 W(200px) undefined\" data-reactid=\"197\" title=\"Invested Capital\"><span class=\"Va(m)\" data-reactid=\"198\">Invested Capital</span></div><div class=\"W(3px) Pos(a) Start(100%) T(0) H(100%) Bg($pfColumnFakeShadowGradient) Pe(n) Pend(5px)\" data-reactid=\"199\"></div></div><div class=\"Ta(c) Py(6px) Bxz(bb) BdB Bdc($seperatorColor) Miw(120px) Miw(140px)--pnclg D(tbc)\" data-reactid=\"200\" data-test=\"fin-col\"><span data-reactid=\"201\">6,167,000</span></div><div class=\"Ta(c) Py(6px) Bxz(bb) BdB Bdc($seperatorColor) Miw(120px) Miw(140px)--pnclg Bgc($lv1BgColor) fi-row:h_Bgc($hoverBgColor) D(tbc)\" data-reactid=\"202\" data-test=\"fin-col\"><span data-reactid=\"203\">3,313,000</span></div><div class=\"Ta(c) Py(6px) Bxz(bb) BdB Bdc($seperatorColor) Miw(120px) Miw(140px)--pnclg D(tbc)\" data-reactid=\"204\" data-test=\"fin-col\"><span data-reactid=\"205\">2,516,000</span></div><div class=\"Ta(c) Py(6px) Bxz(bb) BdB Bdc($seperatorColor) Miw(120px) Miw(140px)--pnclg Bgc($lv1BgColor) fi-row:h_Bgc($hoverBgColor) D(tbc)\" data-reactid=\"206\" data-test=\"fin-col\"><span data-reactid=\"207\">2,006,000</span></div></div><div data-reactid=\"208\"></div></div><div class=\"\" data-reactid=\"209\" data-test=\"fin-row\"><div class=\"D(tbr) fi-row Bgc($hoverBgColor):h\" data-reactid=\"210\"><div class=\"D(tbc) Ta(start) Pend(15px)--mv2 Pend(10px) Bxz(bb) Py(8px) Bdends(s) Bdbs(s) Bdstarts(s) Bdstartw(1px) Bdbw(1px) Bdendw(1px) Bdc($seperatorColor) Pos(st) Start(0) Bgc($lv2BgColor) fi-row:h_Bgc($hoverBgColor) Pstart(15px)--mv2 Pstart(10px)\" data-reactid=\"211\"><div class=\"D(ib) Va(m) Ell Mt(-3px) W(215px)--mv2 W(200px) undefined\" data-reactid=\"212\" title=\"Tangible Book Value\"><span class=\"Va(m)\" data-reactid=\"213\">Tangible Book Value</span></div><div class=\"W(3px) Pos(a) Start(100%) T(0) H(100%) Bg($pfColumnFakeShadowGradient) Pe(n) Pend(5px)\" data-reactid=\"214\"></div></div><div class=\"Ta(c) Py(6px) Bxz(bb) BdB Bdc($seperatorColor) Miw(120px) Miw(140px)--pnclg D(tbc)\" data-reactid=\"215\" data-test=\"fin-col\"><span data-reactid=\"216\">5,319,000</span></div><div class=\"Ta(c) Py(6px) Bxz(bb) BdB Bdc($seperatorColor) Miw(120px) Miw(140px)--pnclg Bgc($lv1BgColor) fi-row:h_Bgc($hoverBgColor) D(tbc)\" data-reactid=\"217\" data-test=\"fin-col\"><span data-reactid=\"218\">2,328,000</span></div><div class=\"Ta(c) Py(6px) Bxz(bb) BdB Bdc($seperatorColor) Miw(120px) Miw(140px)--pnclg D(tbc)\" data-reactid=\"219\" data-test=\"fin-col\"><span data-reactid=\"220\">751,000</span></div><div class=\"Ta(c) Py(6px) Bxz(bb) BdB Bdc($seperatorColor) Miw(120px) Miw(140px)--pnclg Bgc($lv1BgColor) fi-row:h_Bgc($hoverBgColor) D(tbc)\" data-reactid=\"221\" data-test=\"fin-col\"><span data-reactid=\"222\">83,000</span></div></div><div data-reactid=\"223\"></div></div><div class=\"\" data-reactid=\"224\" data-test=\"fin-row\"><div class=\"D(tbr) fi-row Bgc($hoverBgColor):h\" data-reactid=\"225\"><div class=\"D(tbc) Ta(start) Pend(15px)--mv2 Pend(10px) Bxz(bb) Py(8px) Bdends(s) Bdbs(s) Bdstarts(s) Bdstartw(1px) Bdbw(1px) Bdendw(1px) Bdc($seperatorColor) Pos(st) Start(0) Bgc($lv2BgColor) fi-row:h_Bgc($hoverBgColor) Pstart(15px)--mv2 Pstart(10px)\" data-reactid=\"226\"><div class=\"D(ib) Va(m) Ell Mt(-3px) W(215px)--mv2 W(200px) undefined\" data-reactid=\"227\" title=\"Total Debt\"><span class=\"Va(m)\" data-reactid=\"228\">Total Debt</span></div><div class=\"W(3px) Pos(a) Start(100%) T(0) H(100%) Bg($pfColumnFakeShadowGradient) Pe(n) Pend(5px)\" data-reactid=\"229\"></div></div><div class=\"Ta(c) Py(6px) Bxz(bb) BdB Bdc($seperatorColor) Miw(120px) Miw(140px)--pnclg D(tbc)\" data-reactid=\"230\" data-test=\"fin-col\"><span data-reactid=\"231\">531,000</span></div><div class=\"Ta(c) Py(6px) Bxz(bb) BdB Bdc($seperatorColor) Miw(120px) Miw(140px)--pnclg Bgc($lv1BgColor) fi-row:h_Bgc($hoverBgColor) D(tbc)\" data-reactid=\"232\" data-test=\"fin-col\"><span data-reactid=\"233\">728,000</span></div><div class=\"Ta(c) Py(6px) Bxz(bb) BdB Bdc($seperatorColor) Miw(120px) Miw(140px)--pnclg D(tbc)\" data-reactid=\"234\" data-test=\"fin-col\"><span data-reactid=\"235\">1,250,000</span></div><div class=\"Ta(c) Py(6px) Bxz(bb) BdB Bdc($seperatorColor) Miw(120px) Miw(140px)--pnclg Bgc($lv1BgColor) fi-row:h_Bgc($hoverBgColor) D(tbc)\" data-reactid=\"236\" data-test=\"fin-col\"><span data-reactid=\"237\">1,395,000</span></div></div><div data-reactid=\"238\"></div></div><div class=\"\" data-reactid=\"239\" data-test=\"fin-row\"><div class=\"D(tbr) fi-row Bgc($hoverBgColor):h\" data-reactid=\"240\"><div class=\"D(tbc) Ta(start) Pend(15px)--mv2 Pend(10px) Bxz(bb) Py(8px) Bdends(s) Bdbs(s) Bdstarts(s) Bdstartw(1px) Bdbw(1px) Bdendw(1px) Bdc($seperatorColor) Pos(st) Start(0) Bgc($lv2BgColor) fi-row:h_Bgc($hoverBgColor) Pstart(15px)--mv2 Pstart(10px)\" data-reactid=\"241\"><div class=\"D(ib) Va(m) Ell Mt(-3px) W(215px)--mv2 W(200px) undefined\" data-reactid=\"242\" title=\"Net Debt\"><span class=\"Va(m)\" data-reactid=\"243\">Net Debt</span></div><div class=\"W(3px) Pos(a) Start(100%) T(0) H(100%) Bg($pfColumnFakeShadowGradient) Pe(n) Pend(5px)\" data-reactid=\"244\"></div></div><div class=\"Ta(c) Py(6px) Bxz(bb) BdB Bdc($seperatorColor) Miw(120px) Miw(140px)--pnclg D(tbc)\" data-reactid=\"245\" data-test=\"fin-col\">-</div><div class=\"Ta(c) Py(6px) Bxz(bb) BdB Bdc($seperatorColor) Miw(120px) Miw(140px)--pnclg Bgc($lv1BgColor) fi-row:h_Bgc($hoverBgColor) D(tbc)\" data-reactid=\"246\" data-test=\"fin-col\">-</div><div class=\"Ta(c) Py(6px) Bxz(bb) BdB Bdc($seperatorColor) Miw(120px) Miw(140px)--pnclg D(tbc)\" data-reactid=\"247\" data-test=\"fin-col\"><span data-reactid=\"248\">172,000</span></div><div class=\"Ta(c) Py(6px) Bxz(bb) BdB Bdc($seperatorColor) Miw(120px) Miw(140px)--pnclg Bgc($lv1BgColor) fi-row:h_Bgc($hoverBgColor) D(tbc)\" data-reactid=\"249\" data-test=\"fin-col\"><span data-reactid=\"250\">210,000</span></div></div><div data-reactid=\"251\"></div></div><div class=\"\" data-reactid=\"252\" data-test=\"fin-row\"><div class=\"D(tbr) fi-row Bgc($hoverBgColor):h\" data-reactid=\"253\"><div class=\"D(tbc) Ta(start) Pend(15px)--mv2 Pend(10px) Bxz(bb) Py(8px) Bdends(s) Bdbs(s) Bdstarts(s) Bdstartw(1px) Bdbw(1px) Bdendw(1px) Bdc($seperatorColor) Pos(st) Start(0) Bgc($lv2BgColor) fi-row:h_Bgc($hoverBgColor) Pstart(15px)--mv2 Pstart(10px)\" data-reactid=\"254\"><div class=\"D(ib) Va(m) Ell Mt(-3px) W(215px)--mv2 W(200px) undefined\" data-reactid=\"255\" title=\"Share Issued\"><span class=\"Va(m)\" data-reactid=\"256\">Share Issued</span></div><div class=\"W(3px) Pos(a) Start(100%) T(0) H(100%) Bg($pfColumnFakeShadowGradient) Pe(n) Pend(5px)\" data-reactid=\"257\"></div></div><div class=\"Ta(c) Py(6px) Bxz(bb) BdB Bdc($seperatorColor) Miw(120px) Miw(140px)--pnclg D(tbc)\" data-reactid=\"258\" data-test=\"fin-col\"><span data-reactid=\"259\">1,217,000</span></div><div class=\"Ta(c) Py(6px) Bxz(bb) BdB Bdc($seperatorColor) Miw(120px) Miw(140px)--pnclg Bgc($lv1BgColor) fi-row:h_Bgc($hoverBgColor) D(tbc)\" data-reactid=\"260\" data-test=\"fin-col\"><span data-reactid=\"261\">1,175,000</span></div><div class=\"Ta(c) Py(6px) Bxz(bb) BdB Bdc($seperatorColor) Miw(120px) Miw(140px)--pnclg D(tbc)\" data-reactid=\"262\" data-test=\"fin-col\"><span data-reactid=\"263\">1,010,000</span></div><div class=\"Ta(c) Py(6px) Bxz(bb) BdB Bdc($seperatorColor) Miw(120px) Miw(140px)--pnclg Bgc($lv1BgColor) fi-row:h_Bgc($hoverBgColor) D(tbc)\" data-reactid=\"264\" data-test=\"fin-col\"><span data-reactid=\"265\">979,000</span></div></div><div data-reactid=\"266\"></div></div><div class=\"\" data-reactid=\"267\" data-test=\"fin-row\"><div class=\"D(tbr) fi-row Bgc($hoverBgColor):h\" data-reactid=\"268\"><div class=\"D(tbc) Ta(start) Pend(15px)--mv2 Pend(10px) Bxz(bb) Py(8px) Bdends(s) Bdbs(s) Bdstarts(s) Bdstartw(1px) Bdbw(1px) Bdendw(1px) Bdc($seperatorColor) Pos(st) Start(0) Bgc($lv2BgColor) fi-row:h_Bgc($hoverBgColor) Pstart(15px)--mv2 Pstart(10px)\" data-reactid=\"269\"><div class=\"D(ib) Va(m) Ell Mt(-3px) W(215px)--mv2 W(200px) undefined\" data-reactid=\"270\" title=\"Ordinary Shares Number\"><span class=\"Va(m)\" data-reactid=\"271\">Ordinary Shares Number</span></div><div class=\"W(3px) Pos(a) Start(100%) T(0) H(100%) Bg($pfColumnFakeShadowGradient) Pe(n) Pend(5px)\" data-reactid=\"272\"></div></div><div class=\"Ta(c) Py(6px) Bxz(bb) BdB Bdc($seperatorColor) Miw(120px) Miw(140px)--pnclg D(tbc)\" data-reactid=\"273\" data-test=\"fin-col\"><span data-reactid=\"274\">1,211,000</span></div><div class=\"Ta(c) Py(6px) Bxz(bb) BdB Bdc($seperatorColor) Miw(120px) Miw(140px)--pnclg Bgc($lv1BgColor) fi-row:h_Bgc($hoverBgColor) D(tbc)\" data-reactid=\"275\" data-test=\"fin-col\"><span data-reactid=\"276\">1,170,000</span></div><div class=\"Ta(c) Py(6px) Bxz(bb) BdB Bdc($seperatorColor) Miw(120px) Miw(140px)--pnclg D(tbc)\" data-reactid=\"277\" data-test=\"fin-col\"><span data-reactid=\"278\">1,005,000</span></div><div class=\"Ta(c) Py(6px) Bxz(bb) BdB Bdc($seperatorColor) Miw(120px) Miw(140px)--pnclg Bgc($lv1BgColor) fi-row:h_Bgc($hoverBgColor) D(tbc)\" data-reactid=\"279\" data-test=\"fin-col\"><span data-reactid=\"280\">967,000</span></div></div><div data-reactid=\"281\"></div></div><!-- react-empty: 282 --><div class=\"\" data-reactid=\"283\" data-test=\"fin-row\"><div class=\"D(tbr) fi-row Bgc($hoverBgColor):h\" data-reactid=\"284\"><div class=\"D(tbc) Ta(start) Pend(15px)--mv2 Pend(10px) Bxz(bb) Py(8px) Bdends(s) Bdbs(s) Bdstarts(s) Bdstartw(1px) Bdbw(1px) Bdendw(1px) Bdc($seperatorColor) Pos(st) Start(0) Bgc($lv2BgColor) fi-row:h_Bgc($hoverBgColor) Pstart(15px)--mv2 Pstart(10px)\" data-reactid=\"285\"><div class=\"D(ib) Va(m) Ell Mt(-3px) W(215px)--mv2 W(200px) undefined\" data-reactid=\"286\" title=\"Treasury Shares Number\"><span class=\"Va(m)\" data-reactid=\"287\">Treasury Shares Number</span></div><div class=\"W(3px) Pos(a) Start(100%) T(0) H(100%) Bg($pfColumnFakeShadowGradient) Pe(n) Pend(5px)\" data-reactid=\"288\"></div></div><div class=\"Ta(c) Py(6px) Bxz(bb) BdB Bdc($seperatorColor) Miw(120px) Miw(140px)--pnclg D(tbc)\" data-reactid=\"289\" data-test=\"fin-col\"><span data-reactid=\"290\">6,000</span></div><div class=\"Ta(c) Py(6px) Bxz(bb) BdB Bdc($seperatorColor) Miw(120px) Miw(140px)--pnclg Bgc($lv1BgColor) fi-row:h_Bgc($hoverBgColor) D(tbc)\" data-reactid=\"291\" data-test=\"fin-col\"><span data-reactid=\"292\">5,000</span></div><div class=\"Ta(c) Py(6px) Bxz(bb) BdB Bdc($seperatorColor) Miw(120px) Miw(140px)--pnclg D(tbc)\" data-reactid=\"293\" data-test=\"fin-col\"><span data-reactid=\"294\">5,000</span></div><div class=\"Ta(c) Py(6px) Bxz(bb) BdB Bdc($seperatorColor) Miw(120px) Miw(140px)--pnclg Bgc($lv1BgColor) fi-row:h_Bgc($hoverBgColor) D(tbc)\" data-reactid=\"295\" data-test=\"fin-col\"><span data-reactid=\"296\">12,000</span></div></div><div data-reactid=\"297\"></div></div></div></div><div class=\"IbBox\" data-reactid=\"298\"><a class=\"link W(150px) Px(15px) Bxz(bb) Mt(40px) D(b) C($primaryColor) Ta(c) Td(n)\" data-reactid=\"299\" href=\"/premium-marketing?ncid=qspfinancials_ahh8df4hjzo\"><div data-reactid=\"300\"><svg class=\"Va(m)! Cur(a)! Mb(2px) Fill($premiumAppCarrot)! Stk($premiumAppCarrot)! Cur(p)\" data-icon=\"pad-lock\" data-reactid=\"301\" height=\"16\" style=\"fill:#000;stroke:#000;stroke-width:0;vertical-align:bottom;\" viewbox=\"0 0 24 24\" width=\"16\"><path d=\"M3.9 23.4c-.497 0-.9-.408-.9-.912V9.725c0-.504.403-.912.9-.912h2.7c0-.077.002-3.497.005-3.574C6.725 2.324 9.095 0 12 0c2.917 0 5.294 2.343 5.397 5.273.002.065.003 3.474.003 3.54h2.7c.497 0 .9.408.9.912v12.763c0 .504-.403.912-.9.912H3.9zM12 13.37c-.497 0-.9.41-.9.913v3.647c0 .503.403.912.9.912s.9-.41.9-.912v-3.647c0-.504-.403-.912-.9-.912zm-3.586-8.1c-.012.127-.013 3.543-.013 3.543h7.2s-.002-3.406-.012-3.516c-.066-.725-.518-3.474-3.588-3.474-3.034 0-3.51 2.687-3.586 3.448z\" data-reactid=\"302\"></path></svg><p class=\"Fz(s) Whs(n) Fw(b) My(5px)\" data-reactid=\"303\">Premium access required.</p><div class=\"Fz(s) C($linkColor) Fw(b) link:h_C($linkActiveColor)\" data-reactid=\"304\"><span data-reactid=\"305\">Learn more</span></div></div></a></div></div><div class=\"W(8px) Pos(a) End(0) T(0) H(100%) Z(2) Bg($pfColumnFakeShadowGradientReverse) Pe(n)\" data-reactid=\"306\"></div></div></section>]\n"
     ]
    },
    {
     "data": {
      "text/plain": [
       "{}"
      ]
     },
     "execution_count": 3,
     "metadata": {},
     "output_type": "execute_result"
    }
   ],
   "source": [
    "balance_sheet = financials_balance_sheet(symbol)\n",
    "balance_sheet"
   ]
  },
  {
   "cell_type": "code",
   "execution_count": null,
   "id": "german-country",
   "metadata": {},
   "outputs": [],
   "source": []
  }
 ],
 "metadata": {
  "kernelspec": {
   "display_name": "Python 3",
   "language": "python",
   "name": "python3"
  },
  "language_info": {
   "codemirror_mode": {
    "name": "ipython",
    "version": 3
   },
   "file_extension": ".py",
   "mimetype": "text/x-python",
   "name": "python",
   "nbconvert_exporter": "python",
   "pygments_lexer": "ipython3",
   "version": "3.9.1"
  }
 },
 "nbformat": 4,
 "nbformat_minor": 5
}
