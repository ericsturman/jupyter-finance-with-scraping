{
 "cells": [
  {
   "cell_type": "code",
   "execution_count": 1,
   "id": "patient-metro",
   "metadata": {},
   "outputs": [],
   "source": [
    "from fetchYahooStockData import metadata_price_action, extended_stock_stats, basic_stats, current_sp500_symbols, parse_value, current_dow30_symbols, current_nasdaq100_symbols\n",
    "import numpy as np\n",
    "import pandas as pd\n",
    "import math"
   ]
  },
  {
   "cell_type": "code",
   "execution_count": 2,
   "id": "cleared-progressive",
   "metadata": {},
   "outputs": [],
   "source": [
    "symbol=\"IBM\"\n",
    "timeInterval = \"1d\"\n",
    "timeRange = \"10y\""
   ]
  },
  {
   "cell_type": "code",
   "execution_count": 4,
   "id": "competent-local",
   "metadata": {},
   "outputs": [
    {
     "data": {
      "text/plain": [
       "array(['MMM', 'ABT', 'ABBV', 'ABMD', 'ACN', 'ATVI', 'ADBE', 'AMD', 'AAP',\n",
       "       'AES', 'AFL', 'A', 'APD', 'AKAM', 'ALK', 'ALB', 'ARE', 'ALXN',\n",
       "       'ALGN', 'ALLE', 'LNT', 'ALL', 'GOOGL', 'GOOG', 'MO', 'AMZN',\n",
       "       'AMCR', 'AEE', 'AAL', 'AEP', 'AXP', 'AIG', 'AMT', 'AWK', 'AMP',\n",
       "       'ABC', 'AME', 'AMGN', 'APH', 'ADI', 'ANSS', 'ANTM', 'AON', 'AOS',\n",
       "       'APA', 'AAPL', 'AMAT', 'APTV', 'ADM', 'ANET', 'AJG', 'AIZ', 'T',\n",
       "       'ATO', 'ADSK', 'ADP', 'AZO', 'AVB', 'AVY', 'BKR', 'BLL', 'BAC',\n",
       "       'BK', 'BAX', 'BDX', 'BRK.B', 'BBY', 'BIO', 'BIIB', 'BLK', 'BA',\n",
       "       'BKNG', 'BWA', 'BXP', 'BSX', 'BMY', 'AVGO', 'BR', 'BF.B', 'CHRW',\n",
       "       'COG', 'CDNS', 'CPB', 'COF', 'CAH', 'KMX', 'CCL', 'CARR', 'CTLT',\n",
       "       'CAT', 'CBOE', 'CBRE', 'CDW', 'CE', 'CNC', 'CNP', 'CERN', 'CF',\n",
       "       'SCHW', 'CHTR', 'CVX', 'CMG', 'CB', 'CHD', 'CI', 'CINF', 'CTAS',\n",
       "       'CSCO', 'C', 'CFG', 'CTXS', 'CLX', 'CME', 'CMS', 'KO', 'CTSH',\n",
       "       'CL', 'CMCSA', 'CMA', 'CAG', 'COP', 'ED', 'STZ', 'COO', 'CPRT',\n",
       "       'GLW', 'CTVA', 'COST', 'CCI', 'CSX', 'CMI', 'CVS', 'DHI', 'DHR',\n",
       "       'DRI', 'DVA', 'DE', 'DAL', 'XRAY', 'DVN', 'DXCM', 'FANG', 'DLR',\n",
       "       'DFS', 'DISCA', 'DISCK', 'DISH', 'DG', 'DLTR', 'D', 'DPZ', 'DOV',\n",
       "       'DOW', 'DTE', 'DUK', 'DRE', 'DD', 'DXC', 'EMN', 'ETN', 'EBAY',\n",
       "       'ECL', 'EIX', 'EW', 'EA', 'EMR', 'ENPH', 'ETR', 'EOG', 'EFX',\n",
       "       'EQIX', 'EQR', 'ESS', 'EL', 'ETSY', 'EVRG', 'ES', 'RE', 'EXC',\n",
       "       'EXPE', 'EXPD', 'EXR', 'XOM', 'FFIV', 'FB', 'FAST', 'FRT', 'FDX',\n",
       "       'FIS', 'FITB', 'FE', 'FRC', 'FISV', 'FLT', 'FLIR', 'FLS', 'FMC',\n",
       "       'F', 'FTNT', 'FTV', 'FBHS', 'FOXA', 'FOX', 'BEN', 'FCX', 'GPS',\n",
       "       'GRMN', 'IT', 'GD', 'GE', 'GIS', 'GM', 'GPC', 'GILD', 'GL', 'GPN',\n",
       "       'GS', 'GWW', 'HAL', 'HBI', 'HIG', 'HAS', 'HCA', 'PEAK', 'HSIC',\n",
       "       'HSY', 'HES', 'HPE', 'HLT', 'HFC', 'HOLX', 'HD', 'HON', 'HRL',\n",
       "       'HST', 'HWM', 'HPQ', 'HUM', 'HBAN', 'HII', 'IEX', 'IDXX', 'INFO',\n",
       "       'ITW', 'ILMN', 'INCY', 'IR', 'INTC', 'ICE', 'IBM', 'IP', 'IPG',\n",
       "       'IFF', 'INTU', 'ISRG', 'IVZ', 'IPGP', 'IQV', 'IRM', 'JKHY', 'J',\n",
       "       'JBHT', 'SJM', 'JNJ', 'JCI', 'JPM', 'JNPR', 'KSU', 'K', 'KEY',\n",
       "       'KEYS', 'KMB', 'KIM', 'KMI', 'KLAC', 'KHC', 'KR', 'LB', 'LHX',\n",
       "       'LH', 'LRCX', 'LW', 'LVS', 'LEG', 'LDOS', 'LEN', 'LLY', 'LNC',\n",
       "       'LIN', 'LYV', 'LKQ', 'LMT', 'L', 'LOW', 'LUMN', 'LYB', 'MTB',\n",
       "       'MRO', 'MPC', 'MKTX', 'MAR', 'MMC', 'MLM', 'MAS', 'MA', 'MKC',\n",
       "       'MXIM', 'MCD', 'MCK', 'MDT', 'MRK', 'MET', 'MTD', 'MGM', 'MCHP',\n",
       "       'MU', 'MSFT', 'MAA', 'MHK', 'TAP', 'MDLZ', 'MPWR', 'MNST', 'MCO',\n",
       "       'MS', 'MOS', 'MSI', 'MSCI', 'NDAQ', 'NTAP', 'NFLX', 'NWL', 'NEM',\n",
       "       'NWSA', 'NWS', 'NEE', 'NLSN', 'NKE', 'NI', 'NSC', 'NTRS', 'NOC',\n",
       "       'NLOK', 'NCLH', 'NOV', 'NRG', 'NUE', 'NVDA', 'NVR', 'ORLY', 'OXY',\n",
       "       'ODFL', 'OMC', 'OKE', 'ORCL', 'OTIS', 'PCAR', 'PKG', 'PH', 'PAYX',\n",
       "       'PAYC', 'PYPL', 'PNR', 'PBCT', 'PEP', 'PKI', 'PRGO', 'PFE', 'PM',\n",
       "       'PSX', 'PNW', 'PXD', 'PNC', 'POOL', 'PPG', 'PPL', 'PFG', 'PG',\n",
       "       'PGR', 'PLD', 'PRU', 'PEG', 'PSA', 'PHM', 'PVH', 'QRVO', 'PWR',\n",
       "       'QCOM', 'DGX', 'RL', 'RJF', 'RTX', 'O', 'REG', 'REGN', 'RF', 'RSG',\n",
       "       'RMD', 'RHI', 'ROK', 'ROL', 'ROP', 'ROST', 'RCL', 'SPGI', 'CRM',\n",
       "       'SBAC', 'SLB', 'STX', 'SEE', 'SRE', 'NOW', 'SHW', 'SPG', 'SWKS',\n",
       "       'SLG', 'SNA', 'SO', 'LUV', 'SWK', 'SBUX', 'STT', 'STE', 'SYK',\n",
       "       'SIVB', 'SYF', 'SNPS', 'SYY', 'TMUS', 'TROW', 'TTWO', 'TPR', 'TGT',\n",
       "       'TEL', 'TDY', 'TFX', 'TER', 'TSLA', 'TXN', 'TXT', 'TMO', 'TJX',\n",
       "       'TSCO', 'TT', 'TDG', 'TRV', 'TRMB', 'TFC', 'TWTR', 'TYL', 'TSN',\n",
       "       'UDR', 'ULTA', 'USB', 'UAA', 'UA', 'UNP', 'UAL', 'UNH', 'UPS',\n",
       "       'URI', 'UHS', 'UNM', 'VLO', 'VAR', 'VTR', 'VRSN', 'VRSK', 'VZ',\n",
       "       'VRTX', 'VFC', 'VIAC', 'VTRS', 'V', 'VNT', 'VNO', 'VMC', 'WRB',\n",
       "       'WAB', 'WMT', 'WBA', 'DIS', 'WM', 'WAT', 'WEC', 'WFC', 'WELL',\n",
       "       'WST', 'WDC', 'WU', 'WRK', 'WY', 'WHR', 'WMB', 'WLTW', 'WYNN',\n",
       "       'XEL', 'XRX', 'XLNX', 'XYL', 'YUM', 'ZBRA', 'ZBH', 'ZION', 'ZTS'],\n",
       "      dtype='<U5')"
      ]
     },
     "execution_count": 4,
     "metadata": {},
     "output_type": "execute_result"
    }
   ],
   "source": [
    "sp500symbols = np.array(current_sp500_symbols())\n",
    "sp500symbols"
   ]
  },
  {
   "cell_type": "code",
   "execution_count": 5,
   "id": "different-gibraltar",
   "metadata": {},
   "outputs": [
    {
     "data": {
      "text/plain": [
       "array(['MMM', 'AXP', 'AMGN', 'AAPL', 'BA', 'CAT', 'CVX', 'CSCO', 'KO',\n",
       "       'DOW', 'GS', 'HD', 'HON', 'IBM', 'INTC', 'JNJ', 'JPM', 'MCD',\n",
       "       'MRK', 'MSFT', 'NKE', 'PG', 'CRM', 'TRV', 'UNH', 'VZ', 'V', 'WBA',\n",
       "       'WMT', 'DIS'], dtype='<U4')"
      ]
     },
     "execution_count": 5,
     "metadata": {},
     "output_type": "execute_result"
    }
   ],
   "source": [
    "dow30symbols = np.array(current_dow30_symbols())\n",
    "dow30symbols"
   ]
  },
  {
   "cell_type": "code",
   "execution_count": 6,
   "id": "excellent-shelter",
   "metadata": {},
   "outputs": [
    {
     "data": {
      "text/plain": [
       "array(['ATVI', 'ADBE', 'AMD', 'ALXN', 'ALGN', 'GOOGL', 'GOOG', 'AMZN',\n",
       "       'AEP', 'AMGN', 'ADI', 'ANSS', 'AAPL', 'AMAT', 'ASML', 'TEAM',\n",
       "       'ADSK', 'ADP', 'BIDU', 'BIIB', 'BKNG', 'AVGO', 'CDNS', 'CDW',\n",
       "       'CERN', 'CHTR', 'CHKP', 'CTAS', 'CSCO', 'CTSH', 'CMCSA', 'CPRT',\n",
       "       'COST', 'CSX', 'DXCM', 'DOCU', 'DLTR', 'EBAY', 'EA', 'EXC', 'FB',\n",
       "       'FAST', 'FISV', 'FOXA', 'FOX', 'GILD', 'IDXX', 'ILMN', 'INCY',\n",
       "       'INTC', 'INTU', 'ISRG', 'JD', 'KDP', 'KLAC', 'KHC', 'LRCX', 'LULU',\n",
       "       'MAR', 'MRVL', 'MTCH', 'MXIM', 'MELI', 'MCHP', 'MU', 'MSFT',\n",
       "       'MRNA', 'MDLZ', 'MNST', 'NTES', 'NFLX', 'NVDA', 'NXPI', 'ORLY',\n",
       "       'OKTA', 'PCAR', 'PAYX', 'PYPL', 'PTON', 'PEP', 'PDD', 'QCOM',\n",
       "       'REGN', 'ROST', 'SGEN', 'SIRI', 'SWKS', 'SPLK', 'SBUX', 'SNPS',\n",
       "       'TMUS', 'TSLA', 'TXN', 'TCOM', 'VRSN', 'VRSK', 'VRTX', 'WBA',\n",
       "       'WDAY', 'XEL', 'XLNX', 'ZM'], dtype='<U5')"
      ]
     },
     "execution_count": 6,
     "metadata": {},
     "output_type": "execute_result"
    }
   ],
   "source": [
    "nasdaq100symbols = np.array(current_nasdaq100_symbols())\n",
    "nasdaq100symbols"
   ]
  },
  {
   "cell_type": "code",
   "execution_count": 23,
   "id": "sunrise-toilet",
   "metadata": {},
   "outputs": [
    {
     "data": {
      "text/plain": [
       "array(['PFG', 'PNR', 'GLW', 'WDAY', 'PSX', 'AMD', 'IFF', 'PDD', 'BIDU',\n",
       "       'PSA', 'WHR', 'ASML', 'ARE', 'EOG', 'VRTX', 'VNO', 'TWTR', 'NWS',\n",
       "       'OKTA', 'KEYS', 'WRB', 'COO', 'GPC', 'CSCO', 'ROP', 'VNT', 'ROST',\n",
       "       'AMAT', 'DISH', 'HSY', 'LUV', 'FLIR', 'COST', 'SPLK', 'FIS', 'TYL',\n",
       "       'KIM', 'NTRS', 'SPGI', 'IRM', 'REGN', 'CMI', 'BIIB', 'BK', 'XRAY',\n",
       "       'REG', 'ANET', 'CB', 'PLD', 'PNW', 'FCX', 'IPGP', 'MDT', 'CHRW',\n",
       "       'LYB', 'NWSA', 'ITW', 'MTCH', 'PEAK', 'MAR', 'KEY', 'NTES', 'OTIS',\n",
       "       'CTVA', 'CMA', 'CTXS', 'BA', 'ZBH', 'SYK', 'NFLX', 'SIVB', 'OXY',\n",
       "       'CNC', 'STZ', 'MSI', 'SWK', 'ULTA', 'PEP', 'POOL', 'ICE', 'SCHW',\n",
       "       'JPM', 'PPL', 'AVY', 'GOOG', 'HES', 'GILD', 'LULU', 'EL', 'TFX',\n",
       "       'UAA', 'HBI', 'JBHT', 'LOW', 'FLS', 'GIS', 'PTON', 'EFX', 'JKHY',\n",
       "       'FMC', 'TCOM', 'CME', 'COF', 'CMG', 'AMP', 'PEG', 'HAL', 'VTR',\n",
       "       'PRGO', 'VFC', 'GRMN', 'MS', 'BAC', 'XEL', 'UNP', 'CARR', 'CHKP',\n",
       "       'STT', 'BLL', 'WMT', 'TXT', 'WM', 'AVGO', 'ORLY', 'TTWO', 'BAX',\n",
       "       'L', 'AAPL', 'J', 'MCHP', 'PFE', 'INTU', 'ZM', 'IQV', 'WAB', 'ABT',\n",
       "       'FBHS', 'AJG', 'WFC', 'YUM', 'XLNX', 'PBCT', 'DGX', 'HWM', 'GD',\n",
       "       'DVN', 'TSCO', 'NLOK', 'URI', 'PM', 'JD', 'K', 'TDY', 'VZ', 'AEP',\n",
       "       'PKI', 'BSX', 'XYL', 'AMT', 'DFS', 'CHD', 'AON', 'KSU', 'SO',\n",
       "       'INFO', 'EMN', 'MAA', 'IT', 'HFC', 'AAL', 'IP', 'RCL', 'VAR',\n",
       "       'GOOGL', 'DLTR', 'FFIV', 'SLB', 'AWK', 'AIG', 'CE', 'MA', 'MKC',\n",
       "       'LB', 'PVH', 'VRSK', 'DAL', 'CERN', 'ZTS', 'LMT', 'TT', 'ED',\n",
       "       'EVRG', 'ANSS', 'NXPI', 'KMX', 'ALL', 'ATVI', 'FRT', 'WBA', 'HLT',\n",
       "       'MMM', 'WU', 'WST', 'WAT', 'BKR', 'ABC', 'NCLH', 'EXC', 'CL',\n",
       "       'DRE', 'MXIM', 'IEX', 'UDR', 'BKNG', 'CTLT', 'LYV', 'DXC', 'WMB',\n",
       "       'CVS', 'PGR', 'ORCL', 'NEE', 'BBY', 'LUMN', 'CAH', 'MRNA', 'MLM',\n",
       "       'FITB', 'PNC', 'PAYX', 'FTNT', 'TEAM', 'CNP', 'CDW', 'KMB', 'RMD',\n",
       "       'TGT', 'APH', 'IPG', 'BR', 'MDLZ', 'AVB', 'MOS', 'CINF', 'MET',\n",
       "       'KMI', 'TFC', 'PYPL', 'USB', 'MCK', 'DVA', 'XRX', 'RHI', 'HII',\n",
       "       'CRM', 'SYY', 'HIG', 'LNT', 'JCI', 'SJM', 'LVS', 'EQR', 'ETR',\n",
       "       'SNA', 'PKG', 'CPB', 'ZION', 'PRU', 'COP', 'TDG', 'DXCM', 'LH',\n",
       "       'MNST', 'ABBV', 'JNPR', 'MSCI', 'TRV', 'XOM', 'ALXN', 'RL', 'WDC',\n",
       "       'C', 'RJF', 'LRCX', 'TPR', 'COG', 'HUM', 'PG', 'ISRG', 'D', 'PCAR',\n",
       "       'CMCSA', 'GWW', 'FOX', 'ESS', 'NI', 'AIZ', 'SHW', 'AKAM', 'O',\n",
       "       'NVDA', 'ACN', 'APA', 'MRO', 'CPRT', 'PXD', 'CDNS', 'ALK', 'UHS',\n",
       "       'CCI', 'ADP', 'RF', 'LLY', 'SGEN', 'KDP', 'ADSK', 'AME', 'CBRE',\n",
       "       'HPE', 'DRI', 'CSX', 'ADI', 'PAYC', 'CFG', 'WY', 'AZO', 'CVX',\n",
       "       'EXPE', 'NOW', 'AAP', 'NOV', 'FOXA', 'BMY', 'JNJ', 'LIN', 'MHK',\n",
       "       'DPZ', 'CCL', 'DHR', 'GPS', 'HST', 'MCD', 'BXP', 'AMCR', 'FAST',\n",
       "       'HD', 'ECL', 'NOC', 'PWR', 'CBOE', 'WEC', 'SWKS', 'MU', 'EMR',\n",
       "       'MKTX', 'STE', 'DOW', 'WYNN', 'FB', 'FLT', 'AXP', 'EQIX', 'DUK',\n",
       "       'NSC', 'ETSY', 'GL', 'WRK', 'DLR', 'ADM', 'CHTR', 'HAS', 'INCY',\n",
       "       'DOV', 'SBAC', 'SPG', 'FISV', 'MRVL', 'LEG', 'HON', 'LKQ', 'EA',\n",
       "       'BDX', 'STX', 'KLAC', 'LNC', 'MCO', 'CMS', 'EW', 'ZBRA', 'QRVO',\n",
       "       'MAS', 'TMUS', 'EXR', 'PH', 'SIRI', 'KO', 'MRK', 'BWA', 'EIX',\n",
       "       'WELL', 'EXPD', 'ILMN', 'SBUX', 'SEE', 'KHC', 'AES', 'CTSH', 'GM',\n",
       "       'ENPH', 'MPC', 'KR', 'HOLX', 'GS', 'CLX', 'MGM', 'UPS', 'ES',\n",
       "       'TMO', 'PHM', 'MTD', 'DTE', 'LEN', 'IR', 'ABMD', 'IBM', 'APD',\n",
       "       'VIAC', 'VLO', 'ALGN', 'V', 'TXN', 'INTC', 'DISCK', 'FDX', 'ROK',\n",
       "       'AOS', 'TEL', 'RE', 'CAT', 'ANTM', 'MTB', 'NVR', 'FANG', 'IVZ',\n",
       "       'MSFT', 'TRMB', 'BLK', 'ALB', 'AMZN', 'TAP', 'IDXX', 'CF', 'MO',\n",
       "       'DD', 'SLG', 'HSIC', 'NUE', 'ETN', 'UAL', 'CI', 'TJX', 'DHI',\n",
       "       'SYF', 'VRSN', 'DOCU', 'MMC', 'NTAP', 'ATO', 'ALLE', 'AMGN', 'FRC',\n",
       "       'AEE', 'LW', 'SRE', 'BIO', 'LDOS', 'DG', 'OKE', 'GE', 'MPWR',\n",
       "       'TSLA', 'NKE', 'UNM', 'RSG', 'NWL', 'T', 'NRG', 'DISCA', 'BF.B',\n",
       "       'VTRS', 'PPG', 'TROW', 'HCA', 'VMC', 'UNH', 'CAG', 'GPN', 'TSN',\n",
       "       'DIS', 'LHX', 'AFL', 'SNPS', 'A', 'HRL', 'CTAS', 'BEN', 'HBAN',\n",
       "       'DE', 'FTV', 'RTX', 'UA', 'WLTW', 'ODFL', 'FE', 'QCOM', 'BRK.B',\n",
       "       'ROL', 'APTV', 'HPQ', 'NEM', 'ADBE', 'OMC', 'NDAQ', 'TER', 'NLSN',\n",
       "       'EBAY', 'F', 'MELI'], dtype='<U5')"
      ]
     },
     "execution_count": 23,
     "metadata": {},
     "output_type": "execute_result"
    }
   ],
   "source": [
    "allSymbols = np.concatenate((nasdaq100symbols,sp500symbols), axis=None)\n",
    "setAllSymbols = np.array(list(set(allSymbols)))\n",
    "setAllSymbols\n"
   ]
  },
  {
   "cell_type": "code",
   "execution_count": null,
   "id": "commercial-trout",
   "metadata": {},
   "outputs": [],
   "source": [
    "my_columns = [\"Ticker\", \"Stock Price\", \"Market Cap\", \"52 Week Change\", \"Number of Shares to Buy\"]\n",
    "dataframe = pd.DataFrame(columns=my_columns)\n",
    "for sym in sp500symbols[0:4]:\n",
    "    if(sym.find(\".\") > -1):\n",
    "        sym = sym.replace(\".\", \"-\")\n",
    "    basic = basic_stats(sym)\n",
    "    complexStats = extended_stock_stats(sym)\n",
    "    marketCap = parse_value(basic[\"Market Cap\"])\n",
    "    previousClose = parse_value(basic[\"Previous Close\"])\n",
    "    fiftyTwoWeekChange = previousClose / (1+parse_value(complexStats[\"52-Week Change 3\"]))\n",
    "    dataframe = dataframe.append(pd.Series([sym,previousClose,round(marketCap),fiftyTwoWeekChange,\"N/A\"], index=my_columns), ignore_index=True)\n",
    "    print(sym, round(marketCap), previousClose)\n",
    "dataframe.to_csv(\"lastDataframe_bak.csv\")\n",
    "dataframe"
   ]
  },
  {
   "cell_type": "code",
   "execution_count": null,
   "id": "bigger-chest",
   "metadata": {},
   "outputs": [],
   "source": [
    "dataframe.to_csv(\"lastDataframe.csv\")"
   ]
  },
  {
   "cell_type": "code",
   "execution_count": null,
   "id": "sophisticated-appeal",
   "metadata": {},
   "outputs": [],
   "source": [
    "portfolio_size = input(\"How large is your portfolio?\")"
   ]
  },
  {
   "cell_type": "code",
   "execution_count": null,
   "id": "iraqi-bruce",
   "metadata": {},
   "outputs": [],
   "source": [
    "portfolio_size = float(portfolio_size)\n",
    "portfolio_size"
   ]
  },
  {
   "cell_type": "code",
   "execution_count": null,
   "id": "imported-pakistan",
   "metadata": {},
   "outputs": [],
   "source": [
    "position_size = portfolio_size / len(dataframe.index)\n",
    "print(position_size)\n",
    "for i in range(0,len(dataframe.index)):\n",
    "    dataframe.loc[i,\"Number of Shares to Buy\"] = math.floor(position_size/dataframe.loc[i,\"Stock Price\"])\n",
    "\n",
    "dataframe.to_csv(\"lastDataframeWithSharesToBuy.csv\")\n",
    "dataframe"
   ]
  },
  {
   "cell_type": "raw",
   "id": "parallel-withdrawal",
   "metadata": {},
   "source": []
  },
  {
   "cell_type": "code",
   "execution_count": null,
   "id": "gentle-fighter",
   "metadata": {},
   "outputs": [],
   "source": [
    "metadataAndPrice = metadata_price_action(symbol, timeInterval, timeRange)\n",
    "metadata = metadataAndPrice[\"metadata\"]\n",
    "metadata"
   ]
  },
  {
   "cell_type": "code",
   "execution_count": null,
   "id": "wanted-workshop",
   "metadata": {},
   "outputs": [],
   "source": [
    "price = metadataAndPrice[\"price\"]\n",
    "price"
   ]
  },
  {
   "cell_type": "code",
   "execution_count": null,
   "id": "helpful-hometown",
   "metadata": {},
   "outputs": [],
   "source": [
    "basicStats = basic_stats(symbol)\n",
    "basicStats"
   ]
  },
  {
   "cell_type": "code",
   "execution_count": null,
   "id": "tutorial-rocket",
   "metadata": {},
   "outputs": [],
   "source": [
    "extStats = extended_stock_stats(symbol)\n",
    "extStats"
   ]
  },
  {
   "cell_type": "code",
   "execution_count": null,
   "id": "charitable-converter",
   "metadata": {},
   "outputs": [],
   "source": []
  }
 ],
 "metadata": {
  "kernelspec": {
   "display_name": "Python 3",
   "language": "python",
   "name": "python3"
  },
  "language_info": {
   "codemirror_mode": {
    "name": "ipython",
    "version": 3
   },
   "file_extension": ".py",
   "mimetype": "text/x-python",
   "name": "python",
   "nbconvert_exporter": "python",
   "pygments_lexer": "ipython3",
   "version": "3.8.3"
  }
 },
 "nbformat": 4,
 "nbformat_minor": 5
}
