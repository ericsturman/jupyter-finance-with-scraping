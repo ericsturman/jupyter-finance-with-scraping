{
 "cells": [
  {
   "cell_type": "markdown",
   "id": "isolated-tennessee",
   "metadata": {},
   "source": [
    "# Forex testing with the backtesting library and other experiments"
   ]
  },
  {
   "cell_type": "code",
   "execution_count": 36,
   "id": "visible-radio",
   "metadata": {},
   "outputs": [],
   "source": [
    "#from bs4 import BeautifulSoup\n",
    "import pandas as pd\n",
    "import requests\n",
    "import numpy as np\n",
    "import matplotlib.pyplot as plt\n",
    "from datetime import datetime"
   ]
  },
  {
   "cell_type": "markdown",
   "id": "center-garage",
   "metadata": {},
   "source": [
    "## Import forex from spreadsheet and convert timestamp strings to an index"
   ]
  },
  {
   "cell_type": "code",
   "execution_count": 3,
   "id": "environmental-technician",
   "metadata": {},
   "outputs": [
    {
     "data": {
      "text/html": [
       "<div>\n",
       "<style scoped>\n",
       "    .dataframe tbody tr th:only-of-type {\n",
       "        vertical-align: middle;\n",
       "    }\n",
       "\n",
       "    .dataframe tbody tr th {\n",
       "        vertical-align: top;\n",
       "    }\n",
       "\n",
       "    .dataframe thead th {\n",
       "        text-align: right;\n",
       "    }\n",
       "</style>\n",
       "<table border=\"1\" class=\"dataframe\">\n",
       "  <thead>\n",
       "    <tr style=\"text-align: right;\">\n",
       "      <th></th>\n",
       "      <th>Open</th>\n",
       "      <th>High</th>\n",
       "      <th>Low</th>\n",
       "      <th>Close</th>\n",
       "      <th>Volume</th>\n",
       "      <th>NotSure</th>\n",
       "    </tr>\n",
       "    <tr>\n",
       "      <th>Date</th>\n",
       "      <th></th>\n",
       "      <th></th>\n",
       "      <th></th>\n",
       "      <th></th>\n",
       "      <th></th>\n",
       "      <th></th>\n",
       "    </tr>\n",
       "  </thead>\n",
       "  <tbody>\n",
       "    <tr>\n",
       "      <th>2020-01-27 01:05:00</th>\n",
       "      <td>1.10274</td>\n",
       "      <td>1.10313</td>\n",
       "      <td>1.10272</td>\n",
       "      <td>1.10302</td>\n",
       "      <td>264</td>\n",
       "      <td>0</td>\n",
       "    </tr>\n",
       "    <tr>\n",
       "      <th>2020-01-27 01:10:00</th>\n",
       "      <td>1.10302</td>\n",
       "      <td>1.10308</td>\n",
       "      <td>1.10275</td>\n",
       "      <td>1.10296</td>\n",
       "      <td>219</td>\n",
       "      <td>0</td>\n",
       "    </tr>\n",
       "    <tr>\n",
       "      <th>2020-01-27 01:15:00</th>\n",
       "      <td>1.10296</td>\n",
       "      <td>1.10329</td>\n",
       "      <td>1.10296</td>\n",
       "      <td>1.10322</td>\n",
       "      <td>401</td>\n",
       "      <td>0</td>\n",
       "    </tr>\n",
       "    <tr>\n",
       "      <th>2020-01-27 01:20:00</th>\n",
       "      <td>1.10322</td>\n",
       "      <td>1.10327</td>\n",
       "      <td>1.10310</td>\n",
       "      <td>1.10317</td>\n",
       "      <td>322</td>\n",
       "      <td>0</td>\n",
       "    </tr>\n",
       "    <tr>\n",
       "      <th>2020-01-27 01:25:00</th>\n",
       "      <td>1.10318</td>\n",
       "      <td>1.10340</td>\n",
       "      <td>1.10318</td>\n",
       "      <td>1.10338</td>\n",
       "      <td>359</td>\n",
       "      <td>0</td>\n",
       "    </tr>\n",
       "    <tr>\n",
       "      <th>...</th>\n",
       "      <td>...</td>\n",
       "      <td>...</td>\n",
       "      <td>...</td>\n",
       "      <td>...</td>\n",
       "      <td>...</td>\n",
       "      <td>...</td>\n",
       "    </tr>\n",
       "    <tr>\n",
       "      <th>2021-05-28 23:35:00</th>\n",
       "      <td>1.21915</td>\n",
       "      <td>1.21926</td>\n",
       "      <td>1.21915</td>\n",
       "      <td>1.21917</td>\n",
       "      <td>73</td>\n",
       "      <td>0</td>\n",
       "    </tr>\n",
       "    <tr>\n",
       "      <th>2021-05-28 23:40:00</th>\n",
       "      <td>1.21916</td>\n",
       "      <td>1.21939</td>\n",
       "      <td>1.21905</td>\n",
       "      <td>1.21936</td>\n",
       "      <td>140</td>\n",
       "      <td>0</td>\n",
       "    </tr>\n",
       "    <tr>\n",
       "      <th>2021-05-28 23:45:00</th>\n",
       "      <td>1.21936</td>\n",
       "      <td>1.21940</td>\n",
       "      <td>1.21917</td>\n",
       "      <td>1.21921</td>\n",
       "      <td>135</td>\n",
       "      <td>0</td>\n",
       "    </tr>\n",
       "    <tr>\n",
       "      <th>2021-05-28 23:50:00</th>\n",
       "      <td>1.21916</td>\n",
       "      <td>1.21918</td>\n",
       "      <td>1.21891</td>\n",
       "      <td>1.21896</td>\n",
       "      <td>184</td>\n",
       "      <td>0</td>\n",
       "    </tr>\n",
       "    <tr>\n",
       "      <th>2021-05-28 23:55:00</th>\n",
       "      <td>1.21896</td>\n",
       "      <td>1.21896</td>\n",
       "      <td>1.21896</td>\n",
       "      <td>1.21896</td>\n",
       "      <td>1</td>\n",
       "      <td>0</td>\n",
       "    </tr>\n",
       "  </tbody>\n",
       "</table>\n",
       "<p>100000 rows × 6 columns</p>\n",
       "</div>"
      ],
      "text/plain": [
       "                        Open     High      Low    Close  Volume  NotSure\n",
       "Date                                                                    \n",
       "2020-01-27 01:05:00  1.10274  1.10313  1.10272  1.10302     264        0\n",
       "2020-01-27 01:10:00  1.10302  1.10308  1.10275  1.10296     219        0\n",
       "2020-01-27 01:15:00  1.10296  1.10329  1.10296  1.10322     401        0\n",
       "2020-01-27 01:20:00  1.10322  1.10327  1.10310  1.10317     322        0\n",
       "2020-01-27 01:25:00  1.10318  1.10340  1.10318  1.10338     359        0\n",
       "...                      ...      ...      ...      ...     ...      ...\n",
       "2021-05-28 23:35:00  1.21915  1.21926  1.21915  1.21917      73        0\n",
       "2021-05-28 23:40:00  1.21916  1.21939  1.21905  1.21936     140        0\n",
       "2021-05-28 23:45:00  1.21936  1.21940  1.21917  1.21921     135        0\n",
       "2021-05-28 23:50:00  1.21916  1.21918  1.21891  1.21896     184        0\n",
       "2021-05-28 23:55:00  1.21896  1.21896  1.21896  1.21896       1        0\n",
       "\n",
       "[100000 rows x 6 columns]"
      ]
     },
     "execution_count": 3,
     "metadata": {},
     "output_type": "execute_result"
    }
   ],
   "source": [
    "forexData = pd.read_csv(\"forexData.csv\")\n",
    "#forexJson = forexData.json()\n",
    "price = pd.DataFrame(forexData)\n",
    "#datetime.strptime(dt_string, \"%Y.%m.%d %H:%M\")\n",
    "price[\"Date\"] = price[\"Date\"].apply(lambda x: datetime.strptime(x, \"%Y.%m.%d %H:%M\"))\n",
    "price['Date']=price[\"Date\"].apply(lambda x: pd.Timestamp(x, unit='s'))\n",
    "price['Date']=pd.DatetimeIndex(price[\"Date\"])\n",
    "\n",
    "price = price.set_index('Date')\n",
    "price"
   ]
  },
  {
   "cell_type": "markdown",
   "id": "employed-frequency",
   "metadata": {},
   "source": [
    "## testing with backtesting.py"
   ]
  },
  {
   "cell_type": "code",
   "execution_count": null,
   "id": "dirty-snapshot",
   "metadata": {},
   "outputs": [],
   "source": [
    "from backtesting import Backtest, Strategy\n",
    "from backtesting.lib import crossover\n",
    "from backtesting.test import SMA\n",
    "from statistics import mean\n",
    "\n",
    "def mySMA(myArr, period):\n",
    "    return pd.Series(myArr).rolling(period).mean()\n",
    "            \n",
    "def myEMA(myArr, period):\n",
    "    return pd.Series(myArr).ewm(adjust=False, span=period).mean()\n",
    "    \n",
    "def myMacd(myArr):\n",
    "    twelve = myEMA(myArr, 12) \n",
    "    twentySix = myEMA(myArr, 26)\n",
    "    macd = twelve-twentySix\n",
    "#     print(macd, twelve, twentySix)\n",
    "    return macd\n",
    "\n",
    "def myMacdSignal(myArr):\n",
    "    return myEMA(myMacd(myArr), 9)\n",
    "\n",
    "def myMacdHist(myArr):\n",
    "    return myMacd(myArr) - myMacdSignal(myArr)\n",
    "\n",
    "class SmaCross(Strategy):\n",
    "    \n",
    "    def init(self):\n",
    "        profitLossAmnt = 0\n",
    "        closePrice = self.data.Close\n",
    "        openPrice = self.data.Open\n",
    "        #print(\"buy and hold range\", tempprice[0], tempprice[-1])\n",
    "        self.emaOpen4 = self.I(myEMA, openPrice, 4)\n",
    "        self.emaOpen12 = self.I(myEMA, openPrice, 12)\n",
    "        self.emaClose4 = self.I(myEMA, closePrice, 4)\n",
    "        self.emaClose12 = self.I(myEMA, closePrice, 12)\n",
    "#         self.ma3 = self.I(myEMA, tempprice, 100)\n",
    "\n",
    "        #self.macd = self.I(myMacd, tempprice)\n",
    "        #self.macdSignal = self.I(myMacdSignal, tempprice)\n",
    "        #self.macdHist = self.I(myMacdHist, tempprice)\n",
    "\n",
    "        \n",
    "    def next(self):\n",
    "        if crossover(self.emaOpen4, self.emaClose4):\n",
    "            self.buy()\n",
    "        elif crossover(self.emaClose4, self.emaOpen4):\n",
    "            self.sell()\n",
    "\n",
    "bt = Backtest(price, SmaCross,\n",
    "              exclusive_orders=True)\n",
    "stats = bt.run()\n",
    "print(stats._trades[\"PnL\"].sum())\n",
    "print(stats._trades)\n",
    "stats._trades.to_csv(\"trades.csv\")\n",
    "\n",
    "bt.plot()"
   ]
  },
  {
   "cell_type": "markdown",
   "id": "special-ghost",
   "metadata": {},
   "source": [
    "# grouping data by when a run starts"
   ]
  },
  {
   "cell_type": "code",
   "execution_count": 63,
   "id": "traditional-injury",
   "metadata": {},
   "outputs": [
    {
     "name": "stdout",
     "output_type": "stream",
     "text": [
      "      runLengthCount  sum    average\n",
      "hour                                \n",
      "0                 10  699  69.900000\n",
      "1                  7  469  67.000000\n",
      "2                  3  199  66.333333\n",
      "3                  4  256  64.000000\n",
      "4                  2  120  60.000000\n",
      "5                  2  122  61.000000\n",
      "6                  4  243  60.750000\n",
      "7                  2  109  54.500000\n",
      "8                  8  499  62.375000\n",
      "9                  6  366  61.000000\n",
      "10                 1   54  54.000000\n",
      "12                 3  179  59.666667\n",
      "13                10  537  53.700000\n",
      "14                11  684  62.181818\n",
      "15                 7  472  67.428571\n",
      "16                 1   59  59.000000\n",
      "17                 2  105  52.500000\n",
      "18                 4  230  57.500000\n",
      "19                 4  261  65.250000\n",
      "20                 5  268  53.600000\n",
      "21                10  613  61.300000\n",
      "22                10  631  63.100000\n",
      "23                 4  285  71.250000\n"
     ]
    }
   ],
   "source": [
    "maLength = 20\n",
    "maOpenValues = myEMA(price[\"Open\"], maLength)\n",
    "maCloseValues = myEMA(price[\"Close\"], maLength)\n",
    "df = pd.DataFrame(columns=[\"hour\", \"runLengthCount\"])\n",
    "counter = 1\n",
    "for i in range(1,len(price)):\n",
    "    closeOverBefore = 1 if (maOpenValues[i-1] <= maCloseValues[i-1]) else 0\n",
    "    closeOver = 1 if (maOpenValues[i] <= maCloseValues[i]) else 0\n",
    "#     print(i, price.index[i], price.index[i].hour, price[\"Close\"][i], maOpenValues[i], maCloseValues[i], closeOver)\n",
    "    if(closeOverBefore != closeOver):\n",
    "        if(counter > 50):\n",
    "            df = df.append({\"hour\":price.index[i].hour, \"runLengthCount\":counter}, ignore_index=True)\n",
    "        counter = 1\n",
    "    else:\n",
    "        counter = counter + 1\n",
    "groupedDf = df.groupby(['hour']).count()\n",
    "groupedDfSum = df.groupby(\"hour\").sum()\n",
    "groupedDf[\"sum\"] = groupedDfSum[\"runLengthCount\"]\n",
    "groupedDf[\"average\"] = groupedDf[\"sum\"]/groupedDf[\"runLengthCount\"]\n",
    "print(groupedDf)\n",
    "df.to_csv(\"run.csv\")\n"
   ]
  },
  {
   "cell_type": "markdown",
   "id": "opened-division",
   "metadata": {},
   "source": [
    "## Plot results"
   ]
  },
  {
   "cell_type": "code",
   "execution_count": 66,
   "id": "corrected-lafayette",
   "metadata": {},
   "outputs": [
    {
     "name": "stdout",
     "output_type": "stream",
     "text": [
      "5.217391304347826\n"
     ]
    },
    {
     "data": {
      "text/plain": [
       "[<matplotlib.lines.Line2D at 0x2440f47e070>]"
      ]
     },
     "execution_count": 66,
     "metadata": {},
     "output_type": "execute_result"
    },
    {
     "data": {
      "image/png": "[encoded data removed]",
      "text/plain": [
       "<Figure size 432x288 with 2 Axes>"
      ]
     },
     "metadata": {
      "needs_background": "light"
     },
     "output_type": "display_data"
    }
   ],
   "source": [
    "print(groupedDf.runLengthCount.mean())\n",
    "fig, ax = plt.subplots()  # Create a figure containing a single axes.\n",
    "ax2 = ax.twinx()\n",
    "ax.bar(groupedDf.index, groupedDf.runLengthCount)  # Plot some data on the axes.\n",
    "x = np.linspace(groupedDf.runLengthCount.mean(), groupedDf.runLengthCount.mean(), len(groupedDf))\n",
    "ax.plot(groupedDf.index,x, color=\"green\")\n",
    "ax2.plot(groupedDf.index,groupedDf.average, color=\"red\")\n",
    "z"
   ]
  },
  {
   "cell_type": "code",
   "execution_count": null,
   "id": "ranging-threat",
   "metadata": {},
   "outputs": [],
   "source": []
  }
 ],
 "metadata": {
  "kernelspec": {
   "display_name": "Python 3",
   "language": "python",
   "name": "python3"
  },
  "language_info": {
   "codemirror_mode": {
    "name": "ipython",
    "version": 3
   },
   "file_extension": ".py",
   "mimetype": "text/x-python",
   "name": "python",
   "nbconvert_exporter": "python",
   "pygments_lexer": "ipython3",
   "version": "3.9.1"
  }
 },
 "nbformat": 4,
 "nbformat_minor": 5
}
